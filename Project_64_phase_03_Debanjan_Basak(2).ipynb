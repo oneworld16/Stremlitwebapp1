{
  "cells": [
    {
      "cell_type": "code",
      "execution_count": 1,
      "metadata": {
        "colab": {
          "base_uri": "https://localhost:8080/"
        },
        "id": "VfDBXCrzU7ay",
        "outputId": "29e7ea4b-3f49-4ec6-cf88-b9db1ec51d56"
      },
      "outputs": [
        {
          "output_type": "stream",
          "name": "stdout",
          "text": [
            "Looking in indexes: https://pypi.org/simple, https://us-python.pkg.dev/colab-wheels/public/simple/\n",
            "Requirement already satisfied: kaggle in /usr/local/lib/python3.7/dist-packages (1.5.12)\n",
            "Requirement already satisfied: six>=1.10 in /usr/local/lib/python3.7/dist-packages (from kaggle) (1.15.0)\n",
            "Requirement already satisfied: python-dateutil in /usr/local/lib/python3.7/dist-packages (from kaggle) (2.8.2)\n",
            "Requirement already satisfied: python-slugify in /usr/local/lib/python3.7/dist-packages (from kaggle) (6.1.2)\n",
            "Requirement already satisfied: tqdm in /usr/local/lib/python3.7/dist-packages (from kaggle) (4.64.1)\n",
            "Requirement already satisfied: requests in /usr/local/lib/python3.7/dist-packages (from kaggle) (2.23.0)\n",
            "Requirement already satisfied: certifi in /usr/local/lib/python3.7/dist-packages (from kaggle) (2022.9.24)\n",
            "Requirement already satisfied: urllib3 in /usr/local/lib/python3.7/dist-packages (from kaggle) (1.24.3)\n",
            "Requirement already satisfied: text-unidecode>=1.3 in /usr/local/lib/python3.7/dist-packages (from python-slugify->kaggle) (1.3)\n",
            "Requirement already satisfied: chardet<4,>=3.0.2 in /usr/local/lib/python3.7/dist-packages (from requests->kaggle) (3.0.4)\n",
            "Requirement already satisfied: idna<3,>=2.5 in /usr/local/lib/python3.7/dist-packages (from requests->kaggle) (2.10)\n",
            "mkdir: cannot create directory ‘/root/.kaggle’: File exists\n",
            "gold-price-prediction-dataset.zip: Skipping, found more recently modified local copy (use --force to force download)\n",
            "Archive:  gold-price-prediction-dataset.zip\n",
            "replace FINAL_USO.csv? [y]es, [n]o, [A]ll, [N]one, [r]ename: n\n",
            "Looking in indexes: https://pypi.org/simple, https://us-python.pkg.dev/colab-wheels/public/simple/\n",
            "Requirement already satisfied: kaggle in /usr/local/lib/python3.7/dist-packages (1.5.12)\n",
            "Requirement already satisfied: tqdm in /usr/local/lib/python3.7/dist-packages (from kaggle) (4.64.1)\n",
            "Requirement already satisfied: urllib3 in /usr/local/lib/python3.7/dist-packages (from kaggle) (1.24.3)\n",
            "Requirement already satisfied: requests in /usr/local/lib/python3.7/dist-packages (from kaggle) (2.23.0)\n",
            "Requirement already satisfied: certifi in /usr/local/lib/python3.7/dist-packages (from kaggle) (2022.9.24)\n",
            "Requirement already satisfied: six>=1.10 in /usr/local/lib/python3.7/dist-packages (from kaggle) (1.15.0)\n",
            "Requirement already satisfied: python-slugify in /usr/local/lib/python3.7/dist-packages (from kaggle) (6.1.2)\n",
            "Requirement already satisfied: python-dateutil in /usr/local/lib/python3.7/dist-packages (from kaggle) (2.8.2)\n",
            "Requirement already satisfied: text-unidecode>=1.3 in /usr/local/lib/python3.7/dist-packages (from python-slugify->kaggle) (1.3)\n",
            "Requirement already satisfied: idna<3,>=2.5 in /usr/local/lib/python3.7/dist-packages (from requests->kaggle) (2.10)\n",
            "Requirement already satisfied: chardet<4,>=3.0.2 in /usr/local/lib/python3.7/dist-packages (from requests->kaggle) (3.0.4)\n"
          ]
        }
      ],
      "source": [
        "!pip install kaggle\n",
        "! mkdir ~/.kaggle\n",
        "!cp /content/drive/MyDrive/kaggle.json ~/.kaggle/kaggle.json\n",
        "!kaggle datasets download -d sid321axn/gold-price-prediction-dataset\n",
        "!unzip gold-price-prediction-dataset.zip\n",
        "!pip install kaggle"
      ]
    },
    {
      "cell_type": "code",
      "execution_count": 2,
      "metadata": {
        "colab": {
          "base_uri": "https://localhost:8080/"
        },
        "id": "3ndc6N6DVFBL",
        "outputId": "55bb4f70-1541-47ca-efa0-aa3dd0c9fa02"
      },
      "outputs": [
        {
          "output_type": "stream",
          "name": "stdout",
          "text": [
            "Drive already mounted at /content/drive; to attempt to forcibly remount, call drive.mount(\"/content/drive\", force_remount=True).\n"
          ]
        }
      ],
      "source": [
        "from google.colab import drive\n",
        "drive.mount('/content/drive')"
      ]
    },
    {
      "cell_type": "code",
      "execution_count": 3,
      "metadata": {
        "colab": {
          "base_uri": "https://localhost:8080/"
        },
        "id": "SatzfAwKVHLv",
        "outputId": "b4bb1ba3-15c7-4dc2-a269-bf3088d65cbf"
      },
      "outputs": [
        {
          "output_type": "stream",
          "name": "stdout",
          "text": [
            "mkdir: cannot create directory ‘/root/.kaggle’: File exists\n"
          ]
        }
      ],
      "source": [
        "! mkdir ~/.kaggle"
      ]
    },
    {
      "cell_type": "code",
      "execution_count": 4,
      "metadata": {
        "id": "TM-AtsbOVLA8"
      },
      "outputs": [],
      "source": [
        "!cp /content/drive/MyDrive/kaggle.json ~/.kaggle/kaggle.json"
      ]
    },
    {
      "cell_type": "code",
      "execution_count": 5,
      "metadata": {
        "id": "7sLDhpTEVOA5"
      },
      "outputs": [],
      "source": [
        "import pandas as pd\n",
        "import tensorflow as tf\n",
        "import keras\n",
        "import matplotlib.pyplot as plt\n",
        "import numpy as np\n",
        "import seaborn as sns"
      ]
    },
    {
      "cell_type": "code",
      "execution_count": 6,
      "metadata": {
        "colab": {
          "base_uri": "https://localhost:8080/",
          "height": 371
        },
        "id": "uel7G2xgVQMj",
        "outputId": "bf80fa92-1f42-4137-879a-6560ed9619d3"
      },
      "outputs": [
        {
          "output_type": "stream",
          "name": "stdout",
          "text": [
            "gold-price-prediction-dataset.zip: Skipping, found more recently modified local copy (use --force to force download)\n",
            "Archive:  gold-price-prediction-dataset.zip\n",
            "replace FINAL_USO.csv? [y]es, [n]o, [A]ll, [N]one, [r]ename: n\n"
          ]
        },
        {
          "output_type": "execute_result",
          "data": {
            "text/plain": [
              "         Date        Open        High         Low       Close   Adj Close  \\\n",
              "0  2011-12-15  154.740005  154.949997  151.710007  152.330002  152.330002   \n",
              "1  2011-12-16  154.309998  155.369995  153.899994  155.229996  155.229996   \n",
              "2  2011-12-19  155.479996  155.860001  154.360001  154.869995  154.869995   \n",
              "3  2011-12-20  156.820007  157.429993  156.580002  156.979996  156.979996   \n",
              "4  2011-12-21  156.979996  157.529999  156.130005  157.160004  157.160004   \n",
              "\n",
              "     Volume     SP_open     SP_high      SP_low  ...    GDX_Low  GDX_Close  \\\n",
              "0  21521900  123.029999  123.199997  121.989998  ...  51.570000  51.680000   \n",
              "1  18124300  122.230003  122.949997  121.300003  ...  52.040001  52.680000   \n",
              "2  12547200  122.059998  122.320000  120.029999  ...  51.029999  51.169998   \n",
              "3   9136300  122.180000  124.139999  120.370003  ...  52.369999  52.990002   \n",
              "4  11996100  123.930000  124.360001  122.750000  ...  52.419998  52.959999   \n",
              "\n",
              "   GDX_Adj Close  GDX_Volume   USO_Open   USO_High    USO_Low  USO_Close  \\\n",
              "0      48.973877    20605600  36.900002  36.939999  36.049999  36.130001   \n",
              "1      49.921513    16285400  36.180000  36.500000  35.730000  36.270000   \n",
              "2      48.490578    15120200  36.389999  36.450001  35.930000  36.200001   \n",
              "3      50.215282    11644900  37.299999  37.610001  37.220001  37.560001   \n",
              "4      50.186852     8724300  37.669998  38.240002  37.520000  38.110001   \n",
              "\n",
              "   USO_Adj Close  USO_Volume  \n",
              "0      36.130001    12616700  \n",
              "1      36.270000    12578800  \n",
              "2      36.200001     7418200  \n",
              "3      37.560001    10041600  \n",
              "4      38.110001    10728000  \n",
              "\n",
              "[5 rows x 81 columns]"
            ],
            "text/html": [
              "\n",
              "  <div id=\"df-b8afb407-b2ba-4ca2-86e8-1a98590554cc\">\n",
              "    <div class=\"colab-df-container\">\n",
              "      <div>\n",
              "<style scoped>\n",
              "    .dataframe tbody tr th:only-of-type {\n",
              "        vertical-align: middle;\n",
              "    }\n",
              "\n",
              "    .dataframe tbody tr th {\n",
              "        vertical-align: top;\n",
              "    }\n",
              "\n",
              "    .dataframe thead th {\n",
              "        text-align: right;\n",
              "    }\n",
              "</style>\n",
              "<table border=\"1\" class=\"dataframe\">\n",
              "  <thead>\n",
              "    <tr style=\"text-align: right;\">\n",
              "      <th></th>\n",
              "      <th>Date</th>\n",
              "      <th>Open</th>\n",
              "      <th>High</th>\n",
              "      <th>Low</th>\n",
              "      <th>Close</th>\n",
              "      <th>Adj Close</th>\n",
              "      <th>Volume</th>\n",
              "      <th>SP_open</th>\n",
              "      <th>SP_high</th>\n",
              "      <th>SP_low</th>\n",
              "      <th>...</th>\n",
              "      <th>GDX_Low</th>\n",
              "      <th>GDX_Close</th>\n",
              "      <th>GDX_Adj Close</th>\n",
              "      <th>GDX_Volume</th>\n",
              "      <th>USO_Open</th>\n",
              "      <th>USO_High</th>\n",
              "      <th>USO_Low</th>\n",
              "      <th>USO_Close</th>\n",
              "      <th>USO_Adj Close</th>\n",
              "      <th>USO_Volume</th>\n",
              "    </tr>\n",
              "  </thead>\n",
              "  <tbody>\n",
              "    <tr>\n",
              "      <th>0</th>\n",
              "      <td>2011-12-15</td>\n",
              "      <td>154.740005</td>\n",
              "      <td>154.949997</td>\n",
              "      <td>151.710007</td>\n",
              "      <td>152.330002</td>\n",
              "      <td>152.330002</td>\n",
              "      <td>21521900</td>\n",
              "      <td>123.029999</td>\n",
              "      <td>123.199997</td>\n",
              "      <td>121.989998</td>\n",
              "      <td>...</td>\n",
              "      <td>51.570000</td>\n",
              "      <td>51.680000</td>\n",
              "      <td>48.973877</td>\n",
              "      <td>20605600</td>\n",
              "      <td>36.900002</td>\n",
              "      <td>36.939999</td>\n",
              "      <td>36.049999</td>\n",
              "      <td>36.130001</td>\n",
              "      <td>36.130001</td>\n",
              "      <td>12616700</td>\n",
              "    </tr>\n",
              "    <tr>\n",
              "      <th>1</th>\n",
              "      <td>2011-12-16</td>\n",
              "      <td>154.309998</td>\n",
              "      <td>155.369995</td>\n",
              "      <td>153.899994</td>\n",
              "      <td>155.229996</td>\n",
              "      <td>155.229996</td>\n",
              "      <td>18124300</td>\n",
              "      <td>122.230003</td>\n",
              "      <td>122.949997</td>\n",
              "      <td>121.300003</td>\n",
              "      <td>...</td>\n",
              "      <td>52.040001</td>\n",
              "      <td>52.680000</td>\n",
              "      <td>49.921513</td>\n",
              "      <td>16285400</td>\n",
              "      <td>36.180000</td>\n",
              "      <td>36.500000</td>\n",
              "      <td>35.730000</td>\n",
              "      <td>36.270000</td>\n",
              "      <td>36.270000</td>\n",
              "      <td>12578800</td>\n",
              "    </tr>\n",
              "    <tr>\n",
              "      <th>2</th>\n",
              "      <td>2011-12-19</td>\n",
              "      <td>155.479996</td>\n",
              "      <td>155.860001</td>\n",
              "      <td>154.360001</td>\n",
              "      <td>154.869995</td>\n",
              "      <td>154.869995</td>\n",
              "      <td>12547200</td>\n",
              "      <td>122.059998</td>\n",
              "      <td>122.320000</td>\n",
              "      <td>120.029999</td>\n",
              "      <td>...</td>\n",
              "      <td>51.029999</td>\n",
              "      <td>51.169998</td>\n",
              "      <td>48.490578</td>\n",
              "      <td>15120200</td>\n",
              "      <td>36.389999</td>\n",
              "      <td>36.450001</td>\n",
              "      <td>35.930000</td>\n",
              "      <td>36.200001</td>\n",
              "      <td>36.200001</td>\n",
              "      <td>7418200</td>\n",
              "    </tr>\n",
              "    <tr>\n",
              "      <th>3</th>\n",
              "      <td>2011-12-20</td>\n",
              "      <td>156.820007</td>\n",
              "      <td>157.429993</td>\n",
              "      <td>156.580002</td>\n",
              "      <td>156.979996</td>\n",
              "      <td>156.979996</td>\n",
              "      <td>9136300</td>\n",
              "      <td>122.180000</td>\n",
              "      <td>124.139999</td>\n",
              "      <td>120.370003</td>\n",
              "      <td>...</td>\n",
              "      <td>52.369999</td>\n",
              "      <td>52.990002</td>\n",
              "      <td>50.215282</td>\n",
              "      <td>11644900</td>\n",
              "      <td>37.299999</td>\n",
              "      <td>37.610001</td>\n",
              "      <td>37.220001</td>\n",
              "      <td>37.560001</td>\n",
              "      <td>37.560001</td>\n",
              "      <td>10041600</td>\n",
              "    </tr>\n",
              "    <tr>\n",
              "      <th>4</th>\n",
              "      <td>2011-12-21</td>\n",
              "      <td>156.979996</td>\n",
              "      <td>157.529999</td>\n",
              "      <td>156.130005</td>\n",
              "      <td>157.160004</td>\n",
              "      <td>157.160004</td>\n",
              "      <td>11996100</td>\n",
              "      <td>123.930000</td>\n",
              "      <td>124.360001</td>\n",
              "      <td>122.750000</td>\n",
              "      <td>...</td>\n",
              "      <td>52.419998</td>\n",
              "      <td>52.959999</td>\n",
              "      <td>50.186852</td>\n",
              "      <td>8724300</td>\n",
              "      <td>37.669998</td>\n",
              "      <td>38.240002</td>\n",
              "      <td>37.520000</td>\n",
              "      <td>38.110001</td>\n",
              "      <td>38.110001</td>\n",
              "      <td>10728000</td>\n",
              "    </tr>\n",
              "  </tbody>\n",
              "</table>\n",
              "<p>5 rows × 81 columns</p>\n",
              "</div>\n",
              "      <button class=\"colab-df-convert\" onclick=\"convertToInteractive('df-b8afb407-b2ba-4ca2-86e8-1a98590554cc')\"\n",
              "              title=\"Convert this dataframe to an interactive table.\"\n",
              "              style=\"display:none;\">\n",
              "        \n",
              "  <svg xmlns=\"http://www.w3.org/2000/svg\" height=\"24px\"viewBox=\"0 0 24 24\"\n",
              "       width=\"24px\">\n",
              "    <path d=\"M0 0h24v24H0V0z\" fill=\"none\"/>\n",
              "    <path d=\"M18.56 5.44l.94 2.06.94-2.06 2.06-.94-2.06-.94-.94-2.06-.94 2.06-2.06.94zm-11 1L8.5 8.5l.94-2.06 2.06-.94-2.06-.94L8.5 2.5l-.94 2.06-2.06.94zm10 10l.94 2.06.94-2.06 2.06-.94-2.06-.94-.94-2.06-.94 2.06-2.06.94z\"/><path d=\"M17.41 7.96l-1.37-1.37c-.4-.4-.92-.59-1.43-.59-.52 0-1.04.2-1.43.59L10.3 9.45l-7.72 7.72c-.78.78-.78 2.05 0 2.83L4 21.41c.39.39.9.59 1.41.59.51 0 1.02-.2 1.41-.59l7.78-7.78 2.81-2.81c.8-.78.8-2.07 0-2.86zM5.41 20L4 18.59l7.72-7.72 1.47 1.35L5.41 20z\"/>\n",
              "  </svg>\n",
              "      </button>\n",
              "      \n",
              "  <style>\n",
              "    .colab-df-container {\n",
              "      display:flex;\n",
              "      flex-wrap:wrap;\n",
              "      gap: 12px;\n",
              "    }\n",
              "\n",
              "    .colab-df-convert {\n",
              "      background-color: #E8F0FE;\n",
              "      border: none;\n",
              "      border-radius: 50%;\n",
              "      cursor: pointer;\n",
              "      display: none;\n",
              "      fill: #1967D2;\n",
              "      height: 32px;\n",
              "      padding: 0 0 0 0;\n",
              "      width: 32px;\n",
              "    }\n",
              "\n",
              "    .colab-df-convert:hover {\n",
              "      background-color: #E2EBFA;\n",
              "      box-shadow: 0px 1px 2px rgba(60, 64, 67, 0.3), 0px 1px 3px 1px rgba(60, 64, 67, 0.15);\n",
              "      fill: #174EA6;\n",
              "    }\n",
              "\n",
              "    [theme=dark] .colab-df-convert {\n",
              "      background-color: #3B4455;\n",
              "      fill: #D2E3FC;\n",
              "    }\n",
              "\n",
              "    [theme=dark] .colab-df-convert:hover {\n",
              "      background-color: #434B5C;\n",
              "      box-shadow: 0px 1px 3px 1px rgba(0, 0, 0, 0.15);\n",
              "      filter: drop-shadow(0px 1px 2px rgba(0, 0, 0, 0.3));\n",
              "      fill: #FFFFFF;\n",
              "    }\n",
              "  </style>\n",
              "\n",
              "      <script>\n",
              "        const buttonEl =\n",
              "          document.querySelector('#df-b8afb407-b2ba-4ca2-86e8-1a98590554cc button.colab-df-convert');\n",
              "        buttonEl.style.display =\n",
              "          google.colab.kernel.accessAllowed ? 'block' : 'none';\n",
              "\n",
              "        async function convertToInteractive(key) {\n",
              "          const element = document.querySelector('#df-b8afb407-b2ba-4ca2-86e8-1a98590554cc');\n",
              "          const dataTable =\n",
              "            await google.colab.kernel.invokeFunction('convertToInteractive',\n",
              "                                                     [key], {});\n",
              "          if (!dataTable) return;\n",
              "\n",
              "          const docLinkHtml = 'Like what you see? Visit the ' +\n",
              "            '<a target=\"_blank\" href=https://colab.research.google.com/notebooks/data_table.ipynb>data table notebook</a>'\n",
              "            + ' to learn more about interactive tables.';\n",
              "          element.innerHTML = '';\n",
              "          dataTable['output_type'] = 'display_data';\n",
              "          await google.colab.output.renderOutput(dataTable, element);\n",
              "          const docLink = document.createElement('div');\n",
              "          docLink.innerHTML = docLinkHtml;\n",
              "          element.appendChild(docLink);\n",
              "        }\n",
              "      </script>\n",
              "    </div>\n",
              "  </div>\n",
              "  "
            ]
          },
          "metadata": {},
          "execution_count": 6
        }
      ],
      "source": [
        "!kaggle datasets download -d sid321axn/gold-price-prediction-dataset\n",
        "!unzip gold-price-prediction-dataset.zip\n",
        "goldp = pd.read_csv(\"FINAL_USO.csv\")\n",
        "goldp.head(5)"
      ]
    },
    {
      "cell_type": "code",
      "execution_count": 7,
      "metadata": {
        "colab": {
          "base_uri": "https://localhost:8080/"
        },
        "id": "kjtPX_S_VaIZ",
        "outputId": "5ff3554b-5f14-4668-edd0-749c584b6bd4"
      },
      "outputs": [
        {
          "output_type": "execute_result",
          "data": {
            "text/plain": [
              "Index(['Date', 'Open', 'High', 'Low', 'Close', 'Adj Close', 'Volume',\n",
              "       'SP_open', 'SP_high', 'SP_low', 'SP_close', 'SP_Ajclose', 'SP_volume',\n",
              "       'DJ_open', 'DJ_high', 'DJ_low', 'DJ_close', 'DJ_Ajclose', 'DJ_volume',\n",
              "       'EG_open', 'EG_high', 'EG_low', 'EG_close', 'EG_Ajclose', 'EG_volume',\n",
              "       'EU_Price', 'EU_open', 'EU_high', 'EU_low', 'EU_Trend', 'OF_Price',\n",
              "       'OF_Open', 'OF_High', 'OF_Low', 'OF_Volume', 'OF_Trend', 'OS_Price',\n",
              "       'OS_Open', 'OS_High', 'OS_Low', 'OS_Trend', 'SF_Price', 'SF_Open',\n",
              "       'SF_High', 'SF_Low', 'SF_Volume', 'SF_Trend', 'USB_Price', 'USB_Open',\n",
              "       'USB_High', 'USB_Low', 'USB_Trend', 'PLT_Price', 'PLT_Open', 'PLT_High',\n",
              "       'PLT_Low', 'PLT_Trend', 'PLD_Price', 'PLD_Open', 'PLD_High', 'PLD_Low',\n",
              "       'PLD_Trend', 'RHO_PRICE', 'USDI_Price', 'USDI_Open', 'USDI_High',\n",
              "       'USDI_Low', 'USDI_Volume', 'USDI_Trend', 'GDX_Open', 'GDX_High',\n",
              "       'GDX_Low', 'GDX_Close', 'GDX_Adj Close', 'GDX_Volume', 'USO_Open',\n",
              "       'USO_High', 'USO_Low', 'USO_Close', 'USO_Adj Close', 'USO_Volume'],\n",
              "      dtype='object')"
            ]
          },
          "metadata": {},
          "execution_count": 7
        }
      ],
      "source": [
        "goldp.columns"
      ]
    },
    {
      "cell_type": "code",
      "execution_count": 8,
      "metadata": {
        "colab": {
          "base_uri": "https://localhost:8080/"
        },
        "id": "kn-QbuU3VcYL",
        "outputId": "964eeeb0-3d39-45f3-9123-39fd6f14cba5"
      },
      "outputs": [
        {
          "output_type": "execute_result",
          "data": {
            "text/plain": [
              "(1718, 81)"
            ]
          },
          "metadata": {},
          "execution_count": 8
        }
      ],
      "source": [
        "goldp.shape"
      ]
    },
    {
      "cell_type": "code",
      "execution_count": 9,
      "metadata": {
        "colab": {
          "base_uri": "https://localhost:8080/"
        },
        "id": "k-uIGIitVeTi",
        "outputId": "28ea7980-121b-423d-8f9f-52f988b2b412"
      },
      "outputs": [
        {
          "output_type": "stream",
          "name": "stdout",
          "text": [
            "<class 'pandas.core.frame.DataFrame'>\n",
            "RangeIndex: 1718 entries, 0 to 1717\n",
            "Data columns (total 81 columns):\n",
            " #   Column         Non-Null Count  Dtype  \n",
            "---  ------         --------------  -----  \n",
            " 0   Date           1718 non-null   object \n",
            " 1   Open           1718 non-null   float64\n",
            " 2   High           1718 non-null   float64\n",
            " 3   Low            1718 non-null   float64\n",
            " 4   Close          1718 non-null   float64\n",
            " 5   Adj Close      1718 non-null   float64\n",
            " 6   Volume         1718 non-null   int64  \n",
            " 7   SP_open        1718 non-null   float64\n",
            " 8   SP_high        1718 non-null   float64\n",
            " 9   SP_low         1718 non-null   float64\n",
            " 10  SP_close       1718 non-null   float64\n",
            " 11  SP_Ajclose     1718 non-null   float64\n",
            " 12  SP_volume      1718 non-null   int64  \n",
            " 13  DJ_open        1718 non-null   float64\n",
            " 14  DJ_high        1718 non-null   float64\n",
            " 15  DJ_low         1718 non-null   float64\n",
            " 16  DJ_close       1718 non-null   float64\n",
            " 17  DJ_Ajclose     1718 non-null   float64\n",
            " 18  DJ_volume      1718 non-null   int64  \n",
            " 19  EG_open        1718 non-null   float64\n",
            " 20  EG_high        1718 non-null   float64\n",
            " 21  EG_low         1718 non-null   float64\n",
            " 22  EG_close       1718 non-null   float64\n",
            " 23  EG_Ajclose     1718 non-null   float64\n",
            " 24  EG_volume      1718 non-null   int64  \n",
            " 25  EU_Price       1718 non-null   float64\n",
            " 26  EU_open        1718 non-null   float64\n",
            " 27  EU_high        1718 non-null   float64\n",
            " 28  EU_low         1718 non-null   float64\n",
            " 29  EU_Trend       1718 non-null   int64  \n",
            " 30  OF_Price       1718 non-null   float64\n",
            " 31  OF_Open        1718 non-null   float64\n",
            " 32  OF_High        1718 non-null   float64\n",
            " 33  OF_Low         1718 non-null   float64\n",
            " 34  OF_Volume      1718 non-null   int64  \n",
            " 35  OF_Trend       1718 non-null   int64  \n",
            " 36  OS_Price       1718 non-null   float64\n",
            " 37  OS_Open        1718 non-null   float64\n",
            " 38  OS_High        1718 non-null   float64\n",
            " 39  OS_Low         1718 non-null   float64\n",
            " 40  OS_Trend       1718 non-null   int64  \n",
            " 41  SF_Price       1718 non-null   int64  \n",
            " 42  SF_Open        1718 non-null   int64  \n",
            " 43  SF_High        1718 non-null   int64  \n",
            " 44  SF_Low         1718 non-null   int64  \n",
            " 45  SF_Volume      1718 non-null   int64  \n",
            " 46  SF_Trend       1718 non-null   int64  \n",
            " 47  USB_Price      1718 non-null   float64\n",
            " 48  USB_Open       1718 non-null   float64\n",
            " 49  USB_High       1718 non-null   float64\n",
            " 50  USB_Low        1718 non-null   float64\n",
            " 51  USB_Trend      1718 non-null   int64  \n",
            " 52  PLT_Price      1718 non-null   float64\n",
            " 53  PLT_Open       1718 non-null   float64\n",
            " 54  PLT_High       1718 non-null   float64\n",
            " 55  PLT_Low        1718 non-null   float64\n",
            " 56  PLT_Trend      1718 non-null   int64  \n",
            " 57  PLD_Price      1718 non-null   float64\n",
            " 58  PLD_Open       1718 non-null   float64\n",
            " 59  PLD_High       1718 non-null   float64\n",
            " 60  PLD_Low        1718 non-null   float64\n",
            " 61  PLD_Trend      1718 non-null   int64  \n",
            " 62  RHO_PRICE      1718 non-null   int64  \n",
            " 63  USDI_Price     1718 non-null   float64\n",
            " 64  USDI_Open      1718 non-null   float64\n",
            " 65  USDI_High      1718 non-null   float64\n",
            " 66  USDI_Low       1718 non-null   float64\n",
            " 67  USDI_Volume    1718 non-null   int64  \n",
            " 68  USDI_Trend     1718 non-null   int64  \n",
            " 69  GDX_Open       1718 non-null   float64\n",
            " 70  GDX_High       1718 non-null   float64\n",
            " 71  GDX_Low        1718 non-null   float64\n",
            " 72  GDX_Close      1718 non-null   float64\n",
            " 73  GDX_Adj Close  1718 non-null   float64\n",
            " 74  GDX_Volume     1718 non-null   int64  \n",
            " 75  USO_Open       1718 non-null   float64\n",
            " 76  USO_High       1718 non-null   float64\n",
            " 77  USO_Low        1718 non-null   float64\n",
            " 78  USO_Close      1718 non-null   float64\n",
            " 79  USO_Adj Close  1718 non-null   float64\n",
            " 80  USO_Volume     1718 non-null   int64  \n",
            "dtypes: float64(58), int64(22), object(1)\n",
            "memory usage: 1.1+ MB\n"
          ]
        }
      ],
      "source": [
        "goldp.info()"
      ]
    },
    {
      "cell_type": "code",
      "execution_count": 10,
      "metadata": {
        "colab": {
          "base_uri": "https://localhost:8080/"
        },
        "id": "5KvoXXJLVhEP",
        "outputId": "8e75b274-e50f-4a75-a902-a2a3624d576d"
      },
      "outputs": [
        {
          "output_type": "execute_result",
          "data": {
            "text/plain": [
              "Date             0\n",
              "Open             0\n",
              "High             0\n",
              "Low              0\n",
              "Close            0\n",
              "                ..\n",
              "USO_High         0\n",
              "USO_Low          0\n",
              "USO_Close        0\n",
              "USO_Adj Close    0\n",
              "USO_Volume       0\n",
              "Length: 81, dtype: int64"
            ]
          },
          "metadata": {},
          "execution_count": 10
        }
      ],
      "source": [
        "goldp.isnull().sum()"
      ]
    },
    {
      "cell_type": "code",
      "execution_count": 11,
      "metadata": {
        "id": "nxneNRWlW9Xb"
      },
      "outputs": [],
      "source": [
        "df = goldp.copy()"
      ]
    },
    {
      "cell_type": "markdown",
      "metadata": {
        "id": "UUhG0m4RY85l"
      },
      "source": [
        "# **Creating the dataset for AR model on Adj Close**"
      ]
    },
    {
      "cell_type": "code",
      "execution_count": 12,
      "metadata": {
        "colab": {
          "base_uri": "https://localhost:8080/"
        },
        "id": "k1bXF6K5Wziq",
        "outputId": "46d25b40-7dfd-4474-8938-0db9321d224a"
      },
      "outputs": [
        {
          "output_type": "stream",
          "name": "stdout",
          "text": [
            "Data shape:\t (1718, 1)\n",
            "original Data:\n",
            "              Adj Close\n",
            "Date                  \n",
            "2011-12-15  152.330002\n",
            "2011-12-16  155.229996\n",
            "2011-12-19  154.869995\n",
            "2011-12-20  156.979996\n",
            "2011-12-21  157.160004\n",
            "after extracting only the closing price:\n",
            " [[152.330002]\n",
            " [155.229996]\n",
            " [154.869995]\n",
            " ...\n",
            " [120.57    ]\n",
            " [121.059998]\n",
            " [121.25    ]]\n"
          ]
        }
      ],
      "source": [
        "dclose=df[['Date','Adj Close']]\n",
        "dclose.set_index('Date', inplace = True)\n",
        "X= dclose.values\n",
        "print('Data shape:\\t',dclose.shape)\n",
        "print('original Data:\\n',dclose.head(5))\n",
        "print('after extracting only the closing price:\\n',X)"
      ]
    },
    {
      "cell_type": "code",
      "execution_count": 13,
      "metadata": {
        "id": "GIl9z09NXYe6"
      },
      "outputs": [],
      "source": [
        "from statsmodels.tsa.ar_model import AutoReg"
      ]
    },
    {
      "cell_type": "markdown",
      "metadata": {
        "id": "xzl0gzp1ZWQs"
      },
      "source": [
        "# **Checking for stationality**"
      ]
    },
    {
      "cell_type": "code",
      "execution_count": 14,
      "metadata": {
        "colab": {
          "base_uri": "https://localhost:8080/",
          "height": 297
        },
        "id": "2YsU0rpUVh6O",
        "outputId": "fb371098-3b4f-4e84-bf6f-a3e7477b4062"
      },
      "outputs": [
        {
          "output_type": "execute_result",
          "data": {
            "text/plain": [
              "<matplotlib.axes._subplots.AxesSubplot at 0x7f99e6e17810>"
            ]
          },
          "metadata": {},
          "execution_count": 14
        },
        {
          "output_type": "display_data",
          "data": {
            "text/plain": [
              "<Figure size 432x288 with 1 Axes>"
            ],
            "image/png": "[encoded data removed]"
          },
          "metadata": {
            "needs_background": "light"
          }
        }
      ],
      "source": [
        "dclose.plot()"
      ]
    },
    {
      "cell_type": "markdown",
      "metadata": {
        "id": "pwF6WHLUZu4B"
      },
      "source": [
        "# **Using augmented Dickey-Fuller Test**"
      ]
    },
    {
      "cell_type": "code",
      "execution_count": 15,
      "metadata": {
        "colab": {
          "base_uri": "https://localhost:8080/"
        },
        "id": "r6Qf3bTzXNKQ",
        "outputId": "dfa7b21e-cd1c-4a91-fa88-37673f642d06"
      },
      "outputs": [
        {
          "output_type": "stream",
          "name": "stdout",
          "text": [
            "1. ADF:\t -1.8234601291067782\n",
            "2. p-Value: 0.3688781538232954\n",
            "3. Num lags: 1\n",
            "4. Num of observations used for ADF Regression and Critical values calculation: 1716\n",
            "5. Critical Values: {'1%': -3.434166497101742, '5%': -2.8632257697922383, '10%': -2.5676674574279645}\n",
            "\t 1% : -3.434166497101742\n",
            "\t 5% : -2.8632257697922383\n",
            "\t 10% : -2.5676674574279645\n"
          ]
        }
      ],
      "source": [
        "from statsmodels.tsa.stattools import adfuller\n",
        "\n",
        "dftest = adfuller(dclose['Adj Close'], autolag ='AIC')\n",
        "print('1. ADF:\\t',dftest[0])\n",
        "print('2. p-Value:',dftest[1])\n",
        "print('3. Num lags:',dftest[2])\n",
        "print('4. Num of observations used for ADF Regression and Critical values calculation:',dftest[3])\n",
        "print('5. Critical Values:',dftest[4])\n",
        "for key, val in dftest[4].items():\n",
        "  print('\\t',key,':',val)"
      ]
    },
    {
      "cell_type": "code",
      "execution_count": 16,
      "metadata": {
        "colab": {
          "base_uri": "https://localhost:8080/"
        },
        "id": "gXxCUJhabuNL",
        "outputId": "7967237f-5d8b-49ff-dec9-b1dc7b177799"
      },
      "outputs": [
        {
          "output_type": "stream",
          "name": "stdout",
          "text": [
            "\t1%: -3.434\n",
            "\t5%: -2.863\n",
            "\t10%: -2.568\n",
            "Failed to Reject Ho - Time Series is Non-Stationary\n"
          ]
        }
      ],
      "source": [
        "for key, value in dftest[4].items():\n",
        "    print('\\t%s: %.3f' % (key, value))\n",
        "if dftest[0] < dftest[4][\"5%\"]:\n",
        "    print (\"Reject Ho - Time Series is Stationary\")\n",
        "else:\n",
        "    print (\"Failed to Reject Ho - Time Series is Non-Stationary\")"
      ]
    },
    {
      "cell_type": "code",
      "execution_count": 17,
      "metadata": {
        "colab": {
          "base_uri": "https://localhost:8080/",
          "height": 601
        },
        "id": "sH0zTnOAeOMy",
        "outputId": "9acbb764-daab-4b42-b739-1e2cad0d241d"
      },
      "outputs": [
        {
          "output_type": "stream",
          "name": "stderr",
          "text": [
            "/usr/local/lib/python3.7/dist-packages/statsmodels/graphics/tsaplots.py:353: FutureWarning: The default method 'yw' can produce PACF values outside of the [-1,1] interval. After 0.13, the default will change tounadjusted Yule-Walker ('ywm'). You can use this method now by setting method='ywm'.\n",
            "  FutureWarning,\n"
          ]
        },
        {
          "output_type": "display_data",
          "data": {
            "text/plain": [
              "<Figure size 432x288 with 1 Axes>"
            ],
            "image/png": "[encoded data removed]"
          },
          "metadata": {
            "needs_background": "light"
          }
        },
        {
          "output_type": "display_data",
          "data": {
            "text/plain": [
              "<Figure size 432x288 with 1 Axes>"
            ],
            "image/png": "[encoded data removed]"
          },
          "metadata": {
            "needs_background": "light"
          }
        }
      ],
      "source": [
        "from statsmodels.graphics.tsaplots import plot_pacf, plot_acf\n",
        "pacf = plot_pacf(dclose['Adj Close'],lags =25)\n",
        "acf = plot_acf(dclose['Adj Close'], lags =25)"
      ]
    },
    {
      "cell_type": "code",
      "execution_count": 18,
      "metadata": {
        "id": "hy5thvRle9Qa"
      },
      "outputs": [],
      "source": [
        "train = X[:len(X)-7]\n",
        "test = X[len(X)-7:]"
      ]
    },
    {
      "cell_type": "code",
      "execution_count": 19,
      "metadata": {
        "id": "-g3fKTA1zbJW"
      },
      "outputs": [],
      "source": [
        "modelAR = AutoReg(train, lags=13).fit()"
      ]
    },
    {
      "cell_type": "code",
      "execution_count": 20,
      "metadata": {
        "colab": {
          "base_uri": "https://localhost:8080/"
        },
        "id": "qtS1oErNz2Kd",
        "outputId": "e2ad758c-c516-4fa5-a1b6-c5bb674abd58"
      },
      "outputs": [
        {
          "output_type": "stream",
          "name": "stdout",
          "text": [
            "                            AutoReg Model Results                             \n",
            "==============================================================================\n",
            "Dep. Variable:                      y   No. Observations:                 1711\n",
            "Model:                    AutoReg(13)   Log Likelihood               -2774.047\n",
            "Method:               Conditional MLE   S.D. of innovations              1.240\n",
            "Date:                Sat, 08 Oct 2022   AIC                           5578.094\n",
            "Time:                        14:51:50   BIC                           5659.652\n",
            "Sample:                            13   HQIC                          5608.289\n",
            "                                 1711                                         \n",
            "==============================================================================\n",
            "                 coef    std err          z      P>|z|      [0.025      0.975]\n",
            "------------------------------------------------------------------------------\n",
            "const          0.3918      0.222      1.766      0.077      -0.043       0.827\n",
            "y.L1           0.9327      0.024     38.444      0.000       0.885       0.980\n",
            "y.L2           0.0324      0.033      0.977      0.329      -0.033       0.097\n",
            "y.L3           0.0451      0.033      1.363      0.173      -0.020       0.110\n",
            "y.L4          -0.0109      0.033     -0.330      0.741      -0.076       0.054\n",
            "y.L5           0.0390      0.033      1.178      0.239      -0.026       0.104\n",
            "y.L6          -0.0689      0.033     -2.084      0.037      -0.134      -0.004\n",
            "y.L7           0.0722      0.033      2.183      0.029       0.007       0.137\n",
            "y.L8          -0.0366      0.033     -1.107      0.268      -0.101       0.028\n",
            "y.L9          -0.0284      0.033     -0.859      0.390      -0.093       0.036\n",
            "y.L10          0.0061      0.033      0.185      0.854      -0.059       0.071\n",
            "y.L11          0.0470      0.033      1.423      0.155      -0.018       0.112\n",
            "y.L12         -0.0252      0.033     -0.763      0.446      -0.090       0.040\n",
            "y.L13         -0.0077      0.024     -0.321      0.748      -0.055       0.039\n",
            "                                    Roots                                     \n",
            "==============================================================================\n",
            "                   Real          Imaginary           Modulus         Frequency\n",
            "------------------------------------------------------------------------------\n",
            "AR.1             1.0033           -0.0000j            1.0033           -0.0000\n",
            "AR.2             1.3526           -0.0000j            1.3526           -0.0000\n",
            "AR.3             1.2171           -0.7255j            1.4169           -0.0856\n",
            "AR.4             1.2171           +0.7255j            1.4169            0.0856\n",
            "AR.5             0.6232           -1.1667j            1.3227           -0.1719\n",
            "AR.6             0.6232           +1.1667j            1.3227            0.1719\n",
            "AR.7            -0.1429           -1.2661j            1.2742           -0.2679\n",
            "AR.8            -0.1429           +1.2661j            1.2742            0.2679\n",
            "AR.9            -0.9448           -1.0226j            1.3923           -0.3687\n",
            "AR.10           -0.9448           +1.0226j            1.3923            0.3687\n",
            "AR.11           -1.2905           -0.4862j            1.3790           -0.4427\n",
            "AR.12           -1.2905           +0.4862j            1.3790            0.4427\n",
            "AR.13           -4.5428           -0.0000j            4.5428           -0.5000\n",
            "------------------------------------------------------------------------------\n"
          ]
        }
      ],
      "source": [
        "print(modelAR.summary())"
      ]
    },
    {
      "cell_type": "code",
      "execution_count": 21,
      "metadata": {
        "id": "Pu-EZq25z7G-"
      },
      "outputs": [],
      "source": [
        "pred = modelAR.predict(start=len(train), end = len(X)-1,dynamic = False)"
      ]
    },
    {
      "cell_type": "code",
      "execution_count": 22,
      "metadata": {
        "colab": {
          "base_uri": "https://localhost:8080/",
          "height": 408
        },
        "id": "HAIpn74x0vF-",
        "outputId": "d276ffb1-9ad4-4821-f3b2-4e016c9c5773"
      },
      "outputs": [
        {
          "output_type": "stream",
          "name": "stdout",
          "text": [
            "[117.46881596 117.50202546 117.57485216 117.5328967  117.53082418\n",
            " 117.60233097 117.55939032] [[119.239998]\n",
            " [118.720001]\n",
            " [120.019997]\n",
            " [119.660004]\n",
            " [120.57    ]\n",
            " [121.059998]\n",
            " [121.25    ]]\n"
          ]
        },
        {
          "output_type": "display_data",
          "data": {
            "text/plain": [
              "<Figure size 432x288 with 1 Axes>"
            ],
            "image/png": "[encoded data removed]"
          },
          "metadata": {
            "needs_background": "light"
          }
        }
      ],
      "source": [
        "from matplotlib import pyplot\n",
        "pyplot.plot(pred)\n",
        "pyplot.plot(test, color = 'red')\n",
        "\n",
        "test_pred = [test, pred]\n",
        "print(pred,test)"
      ]
    },
    {
      "cell_type": "code",
      "execution_count": 23,
      "metadata": {
        "colab": {
          "base_uri": "https://localhost:8080/"
        },
        "id": "tTyIhfBI1Lg2",
        "outputId": "967c0264-c60a-452a-a4f1-47c2fca3d1db"
      },
      "outputs": [
        {
          "output_type": "stream",
          "name": "stdout",
          "text": [
            "2.6709152974244237\n"
          ]
        }
      ],
      "source": [
        "from math import sqrt\n",
        "from sklearn.metrics import mean_squared_error\n",
        "rmse = sqrt(mean_squared_error(test,pred))\n",
        "print(rmse)"
      ]
    },
    {
      "cell_type": "markdown",
      "metadata": {
        "id": "Oe0Pvch-1rZd"
      },
      "source": [
        "# **Making future predictions**"
      ]
    },
    {
      "cell_type": "code",
      "execution_count": 24,
      "metadata": {
        "colab": {
          "base_uri": "https://localhost:8080/"
        },
        "id": "6sqvWHbj1gvO",
        "outputId": "fd8236d4-1eb7-42ba-b508-b1b0afe709b8"
      },
      "outputs": [
        {
          "output_type": "stream",
          "name": "stdout",
          "text": [
            "The future predictons for the next week:\n",
            "\n",
            "[117.57523244 117.61036553 117.59316197 117.59125862 117.60490336\n",
            " 117.61643264 117.61950688]\n"
          ]
        }
      ],
      "source": [
        "pred_future = modelAR.predict(start=len(X)+1, end=len(X)+7, dynamic = False)\n",
        "print(\"The future predictons for the next week:\\n\")\n",
        "print(pred_future)"
      ]
    },
    {
      "cell_type": "code",
      "execution_count": 25,
      "metadata": {
        "colab": {
          "base_uri": "https://localhost:8080/",
          "height": 283
        },
        "id": "ARqa44om2JMG",
        "outputId": "a3593bfa-e1ce-49e1-e360-9409f54e7fda"
      },
      "outputs": [
        {
          "output_type": "execute_result",
          "data": {
            "text/plain": [
              "[<matplotlib.lines.Line2D at 0x7f99e35b7910>]"
            ]
          },
          "metadata": {},
          "execution_count": 25
        },
        {
          "output_type": "display_data",
          "data": {
            "text/plain": [
              "<Figure size 432x288 with 1 Axes>"
            ],
            "image/png": "[encoded data removed]"
          },
          "metadata": {
            "needs_background": "light"
          }
        }
      ],
      "source": [
        "pyplot.plot(pred_future)"
      ]
    },
    {
      "cell_type": "markdown",
      "metadata": {
        "id": "fEKPCHHcBhWR"
      },
      "source": [
        "# **Using ARIMA model**"
      ]
    },
    {
      "cell_type": "markdown",
      "metadata": {
        "id": "TWqpRx5RBv2P"
      },
      "source": [
        "# Figure out order of our ARIMA model"
      ]
    },
    {
      "cell_type": "code",
      "execution_count": 26,
      "metadata": {
        "colab": {
          "base_uri": "https://localhost:8080/"
        },
        "id": "8q5sHc6dCnU3",
        "outputId": "a73d5da9-02e7-48f3-a117-8442fdf5d168"
      },
      "outputs": [
        {
          "output_type": "stream",
          "name": "stdout",
          "text": [
            "Looking in indexes: https://pypi.org/simple, https://us-python.pkg.dev/colab-wheels/public/simple/\n",
            "Requirement already satisfied: pmdarima in /usr/local/lib/python3.7/dist-packages (2.0.1)\n",
            "Requirement already satisfied: Cython!=0.29.18,!=0.29.31,>=0.29 in /usr/local/lib/python3.7/dist-packages (from pmdarima) (0.29.32)\n",
            "Requirement already satisfied: joblib>=0.11 in /usr/local/lib/python3.7/dist-packages (from pmdarima) (1.2.0)\n",
            "Requirement already satisfied: numpy>=1.21 in /usr/local/lib/python3.7/dist-packages (from pmdarima) (1.21.6)\n",
            "Requirement already satisfied: scipy>=1.3.2 in /usr/local/lib/python3.7/dist-packages (from pmdarima) (1.7.3)\n",
            "Requirement already satisfied: scikit-learn>=0.22 in /usr/local/lib/python3.7/dist-packages (from pmdarima) (1.0.2)\n",
            "Requirement already satisfied: pandas>=0.19 in /usr/local/lib/python3.7/dist-packages (from pmdarima) (1.3.5)\n",
            "Requirement already satisfied: statsmodels>=0.13.2 in /usr/local/lib/python3.7/dist-packages (from pmdarima) (0.13.2)\n",
            "Requirement already satisfied: urllib3 in /usr/local/lib/python3.7/dist-packages (from pmdarima) (1.24.3)\n",
            "Requirement already satisfied: setuptools!=50.0.0,>=38.6.0 in /usr/local/lib/python3.7/dist-packages (from pmdarima) (57.4.0)\n",
            "Requirement already satisfied: pytz>=2017.3 in /usr/local/lib/python3.7/dist-packages (from pandas>=0.19->pmdarima) (2022.4)\n",
            "Requirement already satisfied: python-dateutil>=2.7.3 in /usr/local/lib/python3.7/dist-packages (from pandas>=0.19->pmdarima) (2.8.2)\n",
            "Requirement already satisfied: six>=1.5 in /usr/local/lib/python3.7/dist-packages (from python-dateutil>=2.7.3->pandas>=0.19->pmdarima) (1.15.0)\n",
            "Requirement already satisfied: threadpoolctl>=2.0.0 in /usr/local/lib/python3.7/dist-packages (from scikit-learn>=0.22->pmdarima) (3.1.0)\n",
            "Requirement already satisfied: packaging>=21.3 in /usr/local/lib/python3.7/dist-packages (from statsmodels>=0.13.2->pmdarima) (21.3)\n",
            "Requirement already satisfied: patsy>=0.5.2 in /usr/local/lib/python3.7/dist-packages (from statsmodels>=0.13.2->pmdarima) (0.5.2)\n",
            "Requirement already satisfied: pyparsing!=3.0.5,>=2.0.2 in /usr/local/lib/python3.7/dist-packages (from packaging>=21.3->statsmodels>=0.13.2->pmdarima) (3.0.9)\n"
          ]
        }
      ],
      "source": [
        "!pip install pmdarima"
      ]
    },
    {
      "cell_type": "code",
      "execution_count": 27,
      "metadata": {
        "id": "CVwnvoWGB0My"
      },
      "outputs": [],
      "source": [
        "from pmdarima import auto_arima\n",
        "import warnings\n",
        "warnings.filterwarnings(\"ignore\")"
      ]
    },
    {
      "cell_type": "code",
      "execution_count": 28,
      "metadata": {
        "colab": {
          "base_uri": "https://localhost:8080/"
        },
        "id": "teUCfSkTCGnk",
        "outputId": "0aeb392c-3e0a-48fa-90c1-6dec7649bccc"
      },
      "outputs": [
        {
          "output_type": "stream",
          "name": "stdout",
          "text": [
            "Performing stepwise search to minimize aic\n",
            " ARIMA(2,1,2)(0,0,0)[0] intercept   : AIC=5656.173, Time=1.94 sec\n",
            " ARIMA(0,1,0)(0,0,0)[0] intercept   : AIC=5656.200, Time=0.09 sec\n",
            " ARIMA(1,1,0)(0,0,0)[0] intercept   : AIC=5651.960, Time=0.15 sec\n",
            " ARIMA(0,1,1)(0,0,0)[0] intercept   : AIC=5651.565, Time=0.25 sec\n",
            " ARIMA(0,1,0)(0,0,0)[0]             : AIC=5654.558, Time=0.10 sec\n",
            " ARIMA(1,1,1)(0,0,0)[0] intercept   : AIC=5652.699, Time=1.08 sec\n",
            " ARIMA(0,1,2)(0,0,0)[0] intercept   : AIC=5652.291, Time=0.32 sec\n",
            " ARIMA(1,1,2)(0,0,0)[0] intercept   : AIC=5649.496, Time=1.17 sec\n",
            " ARIMA(1,1,3)(0,0,0)[0] intercept   : AIC=5656.042, Time=0.61 sec\n",
            " ARIMA(0,1,3)(0,0,0)[0] intercept   : AIC=5654.048, Time=0.40 sec\n",
            " ARIMA(2,1,1)(0,0,0)[0] intercept   : AIC=5649.639, Time=1.42 sec\n",
            " ARIMA(2,1,3)(0,0,0)[0] intercept   : AIC=5653.438, Time=2.24 sec\n",
            " ARIMA(1,1,2)(0,0,0)[0]             : AIC=5647.921, Time=0.47 sec\n",
            " ARIMA(0,1,2)(0,0,0)[0]             : AIC=5650.731, Time=0.15 sec\n",
            " ARIMA(1,1,1)(0,0,0)[0]             : AIC=5651.137, Time=0.28 sec\n",
            " ARIMA(2,1,2)(0,0,0)[0]             : AIC=5654.606, Time=0.77 sec\n",
            " ARIMA(1,1,3)(0,0,0)[0]             : AIC=5654.471, Time=0.33 sec\n",
            " ARIMA(0,1,1)(0,0,0)[0]             : AIC=5649.979, Time=0.10 sec\n",
            " ARIMA(0,1,3)(0,0,0)[0]             : AIC=5652.476, Time=0.19 sec\n",
            " ARIMA(2,1,1)(0,0,0)[0]             : AIC=5648.057, Time=0.64 sec\n",
            " ARIMA(2,1,3)(0,0,0)[0]             : AIC=5651.823, Time=1.92 sec\n",
            "\n",
            "Best model:  ARIMA(1,1,2)(0,0,0)[0]          \n",
            "Total fit time: 14.656 seconds\n"
          ]
        }
      ],
      "source": [
        "stepwise_fit = auto_arima(dclose['Adj Close'], trace =True,aupress_warnings = True)"
      ]
    },
    {
      "cell_type": "code",
      "execution_count": 29,
      "metadata": {
        "colab": {
          "base_uri": "https://localhost:8080/"
        },
        "id": "aUQSlH4sI9pe",
        "outputId": "b4a9643c-e2fa-47f4-f395-25878022c55a"
      },
      "outputs": [
        {
          "output_type": "stream",
          "name": "stdout",
          "text": [
            "                               SARIMAX Results                                \n",
            "==============================================================================\n",
            "Dep. Variable:                      y   No. Observations:                 1718\n",
            "Model:               SARIMAX(1, 1, 2)   Log Likelihood               -2819.961\n",
            "Date:                Sat, 08 Oct 2022   AIC                           5647.921\n",
            "Time:                        14:52:10   BIC                           5669.715\n",
            "Sample:                             0   HQIC                          5655.985\n",
            "                               - 1718                                         \n",
            "Covariance Type:                  opg                                         \n",
            "==============================================================================\n",
            "                 coef    std err          z      P>|z|      [0.025      0.975]\n",
            "------------------------------------------------------------------------------\n",
            "ar.L1         -0.8880      0.076    -11.671      0.000      -1.037      -0.739\n",
            "ma.L1          0.8289      0.074     11.163      0.000       0.683       0.974\n",
            "ma.L2         -0.0815      0.011     -7.501      0.000      -0.103      -0.060\n",
            "sigma2         1.5634      0.023     67.041      0.000       1.518       1.609\n",
            "===================================================================================\n",
            "Ljung-Box (L1) (Q):                   0.00   Jarque-Bera (JB):              9652.28\n",
            "Prob(Q):                              1.00   Prob(JB):                         0.00\n",
            "Heteroskedasticity (H):               0.22   Skew:                            -0.67\n",
            "Prob(H) (two-sided):                  0.00   Kurtosis:                        14.54\n",
            "===================================================================================\n",
            "\n",
            "Warnings:\n",
            "[1] Covariance matrix calculated using the outer product of gradients (complex-step).\n"
          ]
        }
      ],
      "source": [
        "print(stepwise_fit.summary())"
      ]
    },
    {
      "cell_type": "code",
      "execution_count": 30,
      "metadata": {
        "id": "yY2bR2bVJT31"
      },
      "outputs": [],
      "source": [
        "from statsmodels.tsa.arima.model import ARIMA"
      ]
    },
    {
      "cell_type": "markdown",
      "metadata": {
        "id": "Xx1ps-8_JsnC"
      },
      "source": [
        "**Split dataset into trainng and testing**"
      ]
    },
    {
      "cell_type": "code",
      "execution_count": 31,
      "metadata": {
        "colab": {
          "base_uri": "https://localhost:8080/"
        },
        "id": "fwi4_sicJmtl",
        "outputId": "a959eaf9-af6a-4602-f8a1-dd88d00c862f"
      },
      "outputs": [
        {
          "output_type": "stream",
          "name": "stdout",
          "text": [
            "(1718, 1)\n",
            "(1690, 1) (28, 1)\n"
          ]
        }
      ],
      "source": [
        "print(dclose.shape)\n",
        "trainMA= dclose.iloc[:-28]\n",
        "testMA= dclose.iloc[-28:]\n",
        "print(trainMA.shape,testMA.shape)"
      ]
    },
    {
      "cell_type": "markdown",
      "metadata": {
        "id": "aAJNkygGKVG1"
      },
      "source": [
        "**Train the model**"
      ]
    },
    {
      "cell_type": "code",
      "execution_count": 32,
      "metadata": {
        "colab": {
          "base_uri": "https://localhost:8080/"
        },
        "id": "VpV3-DVEKXQF",
        "outputId": "e3cfbbd5-8f6e-4c94-e028-3f6a61089498"
      },
      "outputs": [
        {
          "output_type": "stream",
          "name": "stdout",
          "text": [
            "                               SARIMAX Results                                \n",
            "==============================================================================\n",
            "Dep. Variable:              Adj Close   No. Observations:                 1690\n",
            "Model:                 ARIMA(1, 1, 2)   Log Likelihood               -2784.380\n",
            "Date:                Sat, 08 Oct 2022   AIC                           5576.759\n",
            "Time:                        14:52:10   BIC                           5598.487\n",
            "Sample:                             0   HQIC                          5584.806\n",
            "                               - 1690                                         \n",
            "Covariance Type:                  opg                                         \n",
            "==============================================================================\n",
            "                 coef    std err          z      P>|z|      [0.025      0.975]\n",
            "------------------------------------------------------------------------------\n",
            "ar.L1         -0.8864      0.078    -11.412      0.000      -1.039      -0.734\n",
            "ma.L1          0.8281      0.076     10.923      0.000       0.680       0.977\n",
            "ma.L2         -0.0810      0.011     -7.349      0.000      -0.103      -0.059\n",
            "sigma2         1.5828      0.024     66.188      0.000       1.536       1.630\n",
            "===================================================================================\n",
            "Ljung-Box (L1) (Q):                   0.00   Jarque-Bera (JB):              9272.19\n",
            "Prob(Q):                              1.00   Prob(JB):                         0.00\n",
            "Heteroskedasticity (H):               0.23   Skew:                            -0.66\n",
            "Prob(H) (two-sided):                  0.00   Kurtosis:                        14.40\n",
            "===================================================================================\n",
            "\n",
            "Warnings:\n",
            "[1] Covariance matrix calculated using the outer product of gradients (complex-step).\n"
          ]
        }
      ],
      "source": [
        "model = ARIMA(trainMA['Adj Close'], order = (1,1,2))\n",
        "model = model.fit()\n",
        "print(model.summary())"
      ]
    },
    {
      "cell_type": "markdown",
      "metadata": {
        "id": "zFjMpGD8Lnak"
      },
      "source": [
        "**Make predictions on test set**"
      ]
    },
    {
      "cell_type": "code",
      "execution_count": 33,
      "metadata": {
        "colab": {
          "base_uri": "https://localhost:8080/"
        },
        "id": "EBpD6zAjKjb_",
        "outputId": "37414ba5-9a99-4d31-a472-6693b6591e82"
      },
      "outputs": [
        {
          "output_type": "stream",
          "name": "stdout",
          "text": [
            "Date\n",
            "2018-11-19    115.585976\n",
            "2018-11-20    115.544309\n",
            "2018-11-21    115.581243\n",
            "2018-11-23    115.548504\n",
            "2018-11-26    115.577524\n",
            "2018-11-27    115.551801\n",
            "2018-11-28    115.574602\n",
            "2018-11-29    115.554391\n",
            "2018-11-30    115.572306\n",
            "2018-12-03    115.556426\n",
            "2018-12-04    115.570502\n",
            "2018-12-06    115.558025\n",
            "2018-12-07    115.569085\n",
            "2018-12-10    115.559281\n",
            "2018-12-11    115.567971\n",
            "2018-12-12    115.560268\n",
            "2018-12-13    115.567096\n",
            "2018-12-14    115.561044\n",
            "2018-12-17    115.566408\n",
            "2018-12-18    115.561653\n",
            "2018-12-19    115.565868\n",
            "2018-12-20    115.562132\n",
            "2018-12-21    115.565444\n",
            "2018-12-24    115.562508\n",
            "2018-12-26    115.565110\n",
            "2018-12-27    115.562804\n",
            "2018-12-28    115.564848\n",
            "2018-12-31    115.563036\n",
            "Name: predicted_mean, dtype: float64\n"
          ]
        }
      ],
      "source": [
        "start = len(trainMA)\n",
        "end = len(trainMA)+ len(testMA)-1\n",
        "pred = model.predict(start= start,end = end,type = 'levels')\n",
        "pred.index = dclose.index[start:end+1]\n",
        "print(pred)"
      ]
    },
    {
      "cell_type": "code",
      "execution_count": 34,
      "metadata": {
        "colab": {
          "base_uri": "https://localhost:8080/",
          "height": 297
        },
        "id": "CuKoi7MTMQlH",
        "outputId": "5ddb9178-56b5-4d67-c870-aed17201e97b"
      },
      "outputs": [
        {
          "output_type": "execute_result",
          "data": {
            "text/plain": [
              "<matplotlib.axes._subplots.AxesSubplot at 0x7f99dd2b41d0>"
            ]
          },
          "metadata": {},
          "execution_count": 34
        },
        {
          "output_type": "display_data",
          "data": {
            "text/plain": [
              "<Figure size 432x288 with 1 Axes>"
            ],
            "image/png": "[encoded data removed]"
          },
          "metadata": {
            "needs_background": "light"
          }
        }
      ],
      "source": [
        "pred.plot(legend = True)\n",
        "testMA['Adj Close'].plot(legend = 'True')"
      ]
    },
    {
      "cell_type": "code",
      "execution_count": 35,
      "metadata": {
        "colab": {
          "base_uri": "https://localhost:8080/"
        },
        "id": "iKIAGU5iMyLP",
        "outputId": "f8b94a3f-eba7-4659-f906-37834f623a4a"
      },
      "outputs": [
        {
          "output_type": "stream",
          "name": "stdout",
          "text": [
            "2.6406220086313694\n"
          ]
        }
      ],
      "source": [
        "from math import sqrt\n",
        "from sklearn.metrics import mean_squared_error\n",
        "rmse = sqrt(mean_squared_error(testMA,pred))\n",
        "print(rmse)"
      ]
    },
    {
      "cell_type": "code",
      "execution_count": 36,
      "metadata": {
        "colab": {
          "base_uri": "https://localhost:8080/",
          "height": 684
        },
        "id": "hVVtcl0XNEIP",
        "outputId": "5452d28d-8f1d-440a-8db7-c697435235e9"
      },
      "outputs": [
        {
          "output_type": "stream",
          "name": "stdout",
          "text": [
            "                               SARIMAX Results                                \n",
            "==============================================================================\n",
            "Dep. Variable:              Adj Close   No. Observations:                 1718\n",
            "Model:                 ARIMA(1, 1, 2)   Log Likelihood               -2819.961\n",
            "Date:                Sat, 08 Oct 2022   AIC                           5647.921\n",
            "Time:                        14:52:11   BIC                           5669.715\n",
            "Sample:                             0   HQIC                          5655.985\n",
            "                               - 1718                                         \n",
            "Covariance Type:                  opg                                         \n",
            "==============================================================================\n",
            "                 coef    std err          z      P>|z|      [0.025      0.975]\n",
            "------------------------------------------------------------------------------\n",
            "ar.L1         -0.8880      0.076    -11.671      0.000      -1.037      -0.739\n",
            "ma.L1          0.8289      0.074     11.163      0.000       0.683       0.974\n",
            "ma.L2         -0.0815      0.011     -7.501      0.000      -0.103      -0.060\n",
            "sigma2         1.5634      0.023     67.041      0.000       1.518       1.609\n",
            "===================================================================================\n",
            "Ljung-Box (L1) (Q):                   0.00   Jarque-Bera (JB):              9652.28\n",
            "Prob(Q):                              1.00   Prob(JB):                         0.00\n",
            "Heteroskedasticity (H):               0.22   Skew:                            -0.67\n",
            "Prob(H) (two-sided):                  0.00   Kurtosis:                        14.54\n",
            "===================================================================================\n",
            "\n",
            "Warnings:\n",
            "[1] Covariance matrix calculated using the outer product of gradients (complex-step).\n"
          ]
        },
        {
          "output_type": "execute_result",
          "data": {
            "text/plain": [
              "             Adj Close\n",
              "Date                  \n",
              "2018-12-24  120.019997\n",
              "2018-12-26  119.660004\n",
              "2018-12-27  120.570000\n",
              "2018-12-28  121.059998\n",
              "2018-12-31  121.250000"
            ],
            "text/html": [
              "\n",
              "  <div id=\"df-ce16ffa8-bc99-439d-bb4f-298d1cb8e207\">\n",
              "    <div class=\"colab-df-container\">\n",
              "      <div>\n",
              "<style scoped>\n",
              "    .dataframe tbody tr th:only-of-type {\n",
              "        vertical-align: middle;\n",
              "    }\n",
              "\n",
              "    .dataframe tbody tr th {\n",
              "        vertical-align: top;\n",
              "    }\n",
              "\n",
              "    .dataframe thead th {\n",
              "        text-align: right;\n",
              "    }\n",
              "</style>\n",
              "<table border=\"1\" class=\"dataframe\">\n",
              "  <thead>\n",
              "    <tr style=\"text-align: right;\">\n",
              "      <th></th>\n",
              "      <th>Adj Close</th>\n",
              "    </tr>\n",
              "    <tr>\n",
              "      <th>Date</th>\n",
              "      <th></th>\n",
              "    </tr>\n",
              "  </thead>\n",
              "  <tbody>\n",
              "    <tr>\n",
              "      <th>2018-12-24</th>\n",
              "      <td>120.019997</td>\n",
              "    </tr>\n",
              "    <tr>\n",
              "      <th>2018-12-26</th>\n",
              "      <td>119.660004</td>\n",
              "    </tr>\n",
              "    <tr>\n",
              "      <th>2018-12-27</th>\n",
              "      <td>120.570000</td>\n",
              "    </tr>\n",
              "    <tr>\n",
              "      <th>2018-12-28</th>\n",
              "      <td>121.059998</td>\n",
              "    </tr>\n",
              "    <tr>\n",
              "      <th>2018-12-31</th>\n",
              "      <td>121.250000</td>\n",
              "    </tr>\n",
              "  </tbody>\n",
              "</table>\n",
              "</div>\n",
              "      <button class=\"colab-df-convert\" onclick=\"convertToInteractive('df-ce16ffa8-bc99-439d-bb4f-298d1cb8e207')\"\n",
              "              title=\"Convert this dataframe to an interactive table.\"\n",
              "              style=\"display:none;\">\n",
              "        \n",
              "  <svg xmlns=\"http://www.w3.org/2000/svg\" height=\"24px\"viewBox=\"0 0 24 24\"\n",
              "       width=\"24px\">\n",
              "    <path d=\"M0 0h24v24H0V0z\" fill=\"none\"/>\n",
              "    <path d=\"M18.56 5.44l.94 2.06.94-2.06 2.06-.94-2.06-.94-.94-2.06-.94 2.06-2.06.94zm-11 1L8.5 8.5l.94-2.06 2.06-.94-2.06-.94L8.5 2.5l-.94 2.06-2.06.94zm10 10l.94 2.06.94-2.06 2.06-.94-2.06-.94-.94-2.06-.94 2.06-2.06.94z\"/><path d=\"M17.41 7.96l-1.37-1.37c-.4-.4-.92-.59-1.43-.59-.52 0-1.04.2-1.43.59L10.3 9.45l-7.72 7.72c-.78.78-.78 2.05 0 2.83L4 21.41c.39.39.9.59 1.41.59.51 0 1.02-.2 1.41-.59l7.78-7.78 2.81-2.81c.8-.78.8-2.07 0-2.86zM5.41 20L4 18.59l7.72-7.72 1.47 1.35L5.41 20z\"/>\n",
              "  </svg>\n",
              "      </button>\n",
              "      \n",
              "  <style>\n",
              "    .colab-df-container {\n",
              "      display:flex;\n",
              "      flex-wrap:wrap;\n",
              "      gap: 12px;\n",
              "    }\n",
              "\n",
              "    .colab-df-convert {\n",
              "      background-color: #E8F0FE;\n",
              "      border: none;\n",
              "      border-radius: 50%;\n",
              "      cursor: pointer;\n",
              "      display: none;\n",
              "      fill: #1967D2;\n",
              "      height: 32px;\n",
              "      padding: 0 0 0 0;\n",
              "      width: 32px;\n",
              "    }\n",
              "\n",
              "    .colab-df-convert:hover {\n",
              "      background-color: #E2EBFA;\n",
              "      box-shadow: 0px 1px 2px rgba(60, 64, 67, 0.3), 0px 1px 3px 1px rgba(60, 64, 67, 0.15);\n",
              "      fill: #174EA6;\n",
              "    }\n",
              "\n",
              "    [theme=dark] .colab-df-convert {\n",
              "      background-color: #3B4455;\n",
              "      fill: #D2E3FC;\n",
              "    }\n",
              "\n",
              "    [theme=dark] .colab-df-convert:hover {\n",
              "      background-color: #434B5C;\n",
              "      box-shadow: 0px 1px 3px 1px rgba(0, 0, 0, 0.15);\n",
              "      filter: drop-shadow(0px 1px 2px rgba(0, 0, 0, 0.3));\n",
              "      fill: #FFFFFF;\n",
              "    }\n",
              "  </style>\n",
              "\n",
              "      <script>\n",
              "        const buttonEl =\n",
              "          document.querySelector('#df-ce16ffa8-bc99-439d-bb4f-298d1cb8e207 button.colab-df-convert');\n",
              "        buttonEl.style.display =\n",
              "          google.colab.kernel.accessAllowed ? 'block' : 'none';\n",
              "\n",
              "        async function convertToInteractive(key) {\n",
              "          const element = document.querySelector('#df-ce16ffa8-bc99-439d-bb4f-298d1cb8e207');\n",
              "          const dataTable =\n",
              "            await google.colab.kernel.invokeFunction('convertToInteractive',\n",
              "                                                     [key], {});\n",
              "          if (!dataTable) return;\n",
              "\n",
              "          const docLinkHtml = 'Like what you see? Visit the ' +\n",
              "            '<a target=\"_blank\" href=https://colab.research.google.com/notebooks/data_table.ipynb>data table notebook</a>'\n",
              "            + ' to learn more about interactive tables.';\n",
              "          element.innerHTML = '';\n",
              "          dataTable['output_type'] = 'display_data';\n",
              "          await google.colab.output.renderOutput(dataTable, element);\n",
              "          const docLink = document.createElement('div');\n",
              "          docLink.innerHTML = docLinkHtml;\n",
              "          element.appendChild(docLink);\n",
              "        }\n",
              "      </script>\n",
              "    </div>\n",
              "  </div>\n",
              "  "
            ]
          },
          "metadata": {},
          "execution_count": 36
        }
      ],
      "source": [
        "model2 = ARIMA(dclose['Adj Close'], order =(1,1,2))\n",
        "model2 = model2.fit()\n",
        "print(model2.summary())\n",
        "dclose.tail()"
      ]
    },
    {
      "cell_type": "code",
      "execution_count": 37,
      "metadata": {
        "colab": {
          "base_uri": "https://localhost:8080/"
        },
        "id": "Pbz6AYD8NiuP",
        "outputId": "4623b98c-06c7-4c8f-9d29-dbda7e33a29f"
      },
      "outputs": [
        {
          "output_type": "stream",
          "name": "stdout",
          "text": [
            "2018-12-31    121.310708\n",
            "2019-01-01    121.230544\n",
            "2019-01-02    121.301732\n",
            "2019-01-03    121.238515\n",
            "2019-01-04    121.294654\n",
            "2019-01-05    121.244801\n",
            "2019-01-06    121.289072\n",
            "2019-01-07    121.249758\n",
            "2019-01-08    121.284670\n",
            "2019-01-09    121.253667\n",
            "2019-01-10    121.281199\n",
            "2019-01-11    121.256750\n",
            "2019-01-12    121.278461\n",
            "2019-01-13    121.259181\n",
            "2019-01-14    121.276302\n",
            "2019-01-15    121.261098\n",
            "2019-01-16    121.274600\n",
            "2019-01-17    121.262610\n",
            "2019-01-18    121.273257\n",
            "2019-01-19    121.263802\n",
            "2019-01-20    121.272199\n",
            "2019-01-21    121.264742\n",
            "2019-01-22    121.271364\n",
            "2019-01-23    121.265483\n",
            "2019-01-24    121.270705\n",
            "2019-01-25    121.266068\n",
            "2019-01-26    121.270186\n",
            "2019-01-27    121.266529\n",
            "2019-01-28    121.269777\n",
            "Freq: D, Name: ARIMA Predictions, dtype: float64\n"
          ]
        }
      ],
      "source": [
        "index_future = pd.date_range(start ='2018-12-31',end='2019-01-28')\n",
        "pred2 = model2.predict(start =len(dclose),end=len(dclose)+28, typ = 'levels').rename('ARIMA Predictions')\n",
        "pred2.index =index_future\n",
        "print(pred2)"
      ]
    },
    {
      "cell_type": "code",
      "execution_count": 38,
      "metadata": {
        "colab": {
          "base_uri": "https://localhost:8080/",
          "height": 318
        },
        "id": "X-fZIZLWQmix",
        "outputId": "c5a99ea5-b541-4d2c-d04e-88810fd42d70"
      },
      "outputs": [
        {
          "output_type": "execute_result",
          "data": {
            "text/plain": [
              "<matplotlib.axes._subplots.AxesSubplot at 0x7f99dd350d90>"
            ]
          },
          "metadata": {},
          "execution_count": 38
        },
        {
          "output_type": "display_data",
          "data": {
            "text/plain": [
              "<Figure size 432x288 with 1 Axes>"
            ],
            "image/png": "[encoded data removed]"
          },
          "metadata": {
            "needs_background": "light"
          }
        }
      ],
      "source": [
        "pred2.plot(legend = True)"
      ]
    },
    {
      "cell_type": "markdown",
      "metadata": {
        "id": "wsIevCQDRQmd"
      },
      "source": [
        "# **Using machine learning model**"
      ]
    },
    {
      "cell_type": "code",
      "execution_count": 39,
      "metadata": {
        "colab": {
          "base_uri": "https://localhost:8080/",
          "height": 297
        },
        "id": "kT93v_WlQ4YA",
        "outputId": "b48619f5-749c-4e3c-eaa6-fe845b1b5e1b"
      },
      "outputs": [
        {
          "output_type": "execute_result",
          "data": {
            "text/plain": [
              "<matplotlib.axes._subplots.AxesSubplot at 0x7f99dd332d90>"
            ]
          },
          "metadata": {},
          "execution_count": 39
        },
        {
          "output_type": "display_data",
          "data": {
            "text/plain": [
              "<Figure size 432x288 with 1 Axes>"
            ],
            "image/png": "[encoded data removed]"
          },
          "metadata": {
            "needs_background": "light"
          }
        }
      ],
      "source": [
        "dclose.plot()"
      ]
    },
    {
      "cell_type": "code",
      "execution_count": 40,
      "metadata": {
        "colab": {
          "base_uri": "https://localhost:8080/",
          "height": 455
        },
        "id": "tLlEQXXAT7eq",
        "outputId": "a70bd3e7-11cc-424d-d9d3-f11dc97e1db1"
      },
      "outputs": [
        {
          "output_type": "execute_result",
          "data": {
            "text/plain": [
              "             Adj Close  price_Day-1  price_Day-2  price_day-3\n",
              "Date                                                         \n",
              "2011-12-15  152.330002          NaN          NaN          NaN\n",
              "2011-12-16  155.229996   152.330002          NaN          NaN\n",
              "2011-12-19  154.869995   155.229996   152.330002          NaN\n",
              "2011-12-20  156.979996   154.869995   155.229996   152.330002\n",
              "2011-12-21  157.160004   156.979996   154.869995   155.229996\n",
              "...                ...          ...          ...          ...\n",
              "2018-12-24  120.019997   118.720001   119.239998   117.430000\n",
              "2018-12-26  119.660004   120.019997   118.720001   119.239998\n",
              "2018-12-27  120.570000   119.660004   120.019997   118.720001\n",
              "2018-12-28  121.059998   120.570000   119.660004   120.019997\n",
              "2018-12-31  121.250000   121.059998   120.570000   119.660004\n",
              "\n",
              "[1718 rows x 4 columns]"
            ],
            "text/html": [
              "\n",
              "  <div id=\"df-99ab6767-90ab-45ad-b697-e0b3998d8211\">\n",
              "    <div class=\"colab-df-container\">\n",
              "      <div>\n",
              "<style scoped>\n",
              "    .dataframe tbody tr th:only-of-type {\n",
              "        vertical-align: middle;\n",
              "    }\n",
              "\n",
              "    .dataframe tbody tr th {\n",
              "        vertical-align: top;\n",
              "    }\n",
              "\n",
              "    .dataframe thead th {\n",
              "        text-align: right;\n",
              "    }\n",
              "</style>\n",
              "<table border=\"1\" class=\"dataframe\">\n",
              "  <thead>\n",
              "    <tr style=\"text-align: right;\">\n",
              "      <th></th>\n",
              "      <th>Adj Close</th>\n",
              "      <th>price_Day-1</th>\n",
              "      <th>price_Day-2</th>\n",
              "      <th>price_day-3</th>\n",
              "    </tr>\n",
              "    <tr>\n",
              "      <th>Date</th>\n",
              "      <th></th>\n",
              "      <th></th>\n",
              "      <th></th>\n",
              "      <th></th>\n",
              "    </tr>\n",
              "  </thead>\n",
              "  <tbody>\n",
              "    <tr>\n",
              "      <th>2011-12-15</th>\n",
              "      <td>152.330002</td>\n",
              "      <td>NaN</td>\n",
              "      <td>NaN</td>\n",
              "      <td>NaN</td>\n",
              "    </tr>\n",
              "    <tr>\n",
              "      <th>2011-12-16</th>\n",
              "      <td>155.229996</td>\n",
              "      <td>152.330002</td>\n",
              "      <td>NaN</td>\n",
              "      <td>NaN</td>\n",
              "    </tr>\n",
              "    <tr>\n",
              "      <th>2011-12-19</th>\n",
              "      <td>154.869995</td>\n",
              "      <td>155.229996</td>\n",
              "      <td>152.330002</td>\n",
              "      <td>NaN</td>\n",
              "    </tr>\n",
              "    <tr>\n",
              "      <th>2011-12-20</th>\n",
              "      <td>156.979996</td>\n",
              "      <td>154.869995</td>\n",
              "      <td>155.229996</td>\n",
              "      <td>152.330002</td>\n",
              "    </tr>\n",
              "    <tr>\n",
              "      <th>2011-12-21</th>\n",
              "      <td>157.160004</td>\n",
              "      <td>156.979996</td>\n",
              "      <td>154.869995</td>\n",
              "      <td>155.229996</td>\n",
              "    </tr>\n",
              "    <tr>\n",
              "      <th>...</th>\n",
              "      <td>...</td>\n",
              "      <td>...</td>\n",
              "      <td>...</td>\n",
              "      <td>...</td>\n",
              "    </tr>\n",
              "    <tr>\n",
              "      <th>2018-12-24</th>\n",
              "      <td>120.019997</td>\n",
              "      <td>118.720001</td>\n",
              "      <td>119.239998</td>\n",
              "      <td>117.430000</td>\n",
              "    </tr>\n",
              "    <tr>\n",
              "      <th>2018-12-26</th>\n",
              "      <td>119.660004</td>\n",
              "      <td>120.019997</td>\n",
              "      <td>118.720001</td>\n",
              "      <td>119.239998</td>\n",
              "    </tr>\n",
              "    <tr>\n",
              "      <th>2018-12-27</th>\n",
              "      <td>120.570000</td>\n",
              "      <td>119.660004</td>\n",
              "      <td>120.019997</td>\n",
              "      <td>118.720001</td>\n",
              "    </tr>\n",
              "    <tr>\n",
              "      <th>2018-12-28</th>\n",
              "      <td>121.059998</td>\n",
              "      <td>120.570000</td>\n",
              "      <td>119.660004</td>\n",
              "      <td>120.019997</td>\n",
              "    </tr>\n",
              "    <tr>\n",
              "      <th>2018-12-31</th>\n",
              "      <td>121.250000</td>\n",
              "      <td>121.059998</td>\n",
              "      <td>120.570000</td>\n",
              "      <td>119.660004</td>\n",
              "    </tr>\n",
              "  </tbody>\n",
              "</table>\n",
              "<p>1718 rows × 4 columns</p>\n",
              "</div>\n",
              "      <button class=\"colab-df-convert\" onclick=\"convertToInteractive('df-99ab6767-90ab-45ad-b697-e0b3998d8211')\"\n",
              "              title=\"Convert this dataframe to an interactive table.\"\n",
              "              style=\"display:none;\">\n",
              "        \n",
              "  <svg xmlns=\"http://www.w3.org/2000/svg\" height=\"24px\"viewBox=\"0 0 24 24\"\n",
              "       width=\"24px\">\n",
              "    <path d=\"M0 0h24v24H0V0z\" fill=\"none\"/>\n",
              "    <path d=\"M18.56 5.44l.94 2.06.94-2.06 2.06-.94-2.06-.94-.94-2.06-.94 2.06-2.06.94zm-11 1L8.5 8.5l.94-2.06 2.06-.94-2.06-.94L8.5 2.5l-.94 2.06-2.06.94zm10 10l.94 2.06.94-2.06 2.06-.94-2.06-.94-.94-2.06-.94 2.06-2.06.94z\"/><path d=\"M17.41 7.96l-1.37-1.37c-.4-.4-.92-.59-1.43-.59-.52 0-1.04.2-1.43.59L10.3 9.45l-7.72 7.72c-.78.78-.78 2.05 0 2.83L4 21.41c.39.39.9.59 1.41.59.51 0 1.02-.2 1.41-.59l7.78-7.78 2.81-2.81c.8-.78.8-2.07 0-2.86zM5.41 20L4 18.59l7.72-7.72 1.47 1.35L5.41 20z\"/>\n",
              "  </svg>\n",
              "      </button>\n",
              "      \n",
              "  <style>\n",
              "    .colab-df-container {\n",
              "      display:flex;\n",
              "      flex-wrap:wrap;\n",
              "      gap: 12px;\n",
              "    }\n",
              "\n",
              "    .colab-df-convert {\n",
              "      background-color: #E8F0FE;\n",
              "      border: none;\n",
              "      border-radius: 50%;\n",
              "      cursor: pointer;\n",
              "      display: none;\n",
              "      fill: #1967D2;\n",
              "      height: 32px;\n",
              "      padding: 0 0 0 0;\n",
              "      width: 32px;\n",
              "    }\n",
              "\n",
              "    .colab-df-convert:hover {\n",
              "      background-color: #E2EBFA;\n",
              "      box-shadow: 0px 1px 2px rgba(60, 64, 67, 0.3), 0px 1px 3px 1px rgba(60, 64, 67, 0.15);\n",
              "      fill: #174EA6;\n",
              "    }\n",
              "\n",
              "    [theme=dark] .colab-df-convert {\n",
              "      background-color: #3B4455;\n",
              "      fill: #D2E3FC;\n",
              "    }\n",
              "\n",
              "    [theme=dark] .colab-df-convert:hover {\n",
              "      background-color: #434B5C;\n",
              "      box-shadow: 0px 1px 3px 1px rgba(0, 0, 0, 0.15);\n",
              "      filter: drop-shadow(0px 1px 2px rgba(0, 0, 0, 0.3));\n",
              "      fill: #FFFFFF;\n",
              "    }\n",
              "  </style>\n",
              "\n",
              "      <script>\n",
              "        const buttonEl =\n",
              "          document.querySelector('#df-99ab6767-90ab-45ad-b697-e0b3998d8211 button.colab-df-convert');\n",
              "        buttonEl.style.display =\n",
              "          google.colab.kernel.accessAllowed ? 'block' : 'none';\n",
              "\n",
              "        async function convertToInteractive(key) {\n",
              "          const element = document.querySelector('#df-99ab6767-90ab-45ad-b697-e0b3998d8211');\n",
              "          const dataTable =\n",
              "            await google.colab.kernel.invokeFunction('convertToInteractive',\n",
              "                                                     [key], {});\n",
              "          if (!dataTable) return;\n",
              "\n",
              "          const docLinkHtml = 'Like what you see? Visit the ' +\n",
              "            '<a target=\"_blank\" href=https://colab.research.google.com/notebooks/data_table.ipynb>data table notebook</a>'\n",
              "            + ' to learn more about interactive tables.';\n",
              "          element.innerHTML = '';\n",
              "          dataTable['output_type'] = 'display_data';\n",
              "          await google.colab.output.renderOutput(dataTable, element);\n",
              "          const docLink = document.createElement('div');\n",
              "          docLink.innerHTML = docLinkHtml;\n",
              "          element.appendChild(docLink);\n",
              "        }\n",
              "      </script>\n",
              "    </div>\n",
              "  </div>\n",
              "  "
            ]
          },
          "metadata": {},
          "execution_count": 40
        }
      ],
      "source": [
        "dclose['price_Day-1']=dclose['Adj Close'].shift(+1)\n",
        "dclose['price_Day-2']=dclose['Adj Close'].shift(+2)\n",
        "dclose['price_day-3']=dclose['Adj Close'].shift(+3)\n",
        "dclose"
      ]
    },
    {
      "cell_type": "code",
      "execution_count": 41,
      "metadata": {
        "colab": {
          "base_uri": "https://localhost:8080/",
          "height": 455
        },
        "id": "CNk6_1-pUTqB",
        "outputId": "7f0dcfe9-e026-4991-8d8b-5b6746858699"
      },
      "outputs": [
        {
          "output_type": "execute_result",
          "data": {
            "text/plain": [
              "             Adj Close  price_Day-1  price_Day-2  price_day-3\n",
              "Date                                                         \n",
              "2011-12-20  156.979996   154.869995   155.229996   152.330002\n",
              "2011-12-21  157.160004   156.979996   154.869995   155.229996\n",
              "2011-12-22  156.039993   157.160004   156.979996   154.869995\n",
              "2011-12-23  156.309998   156.039993   157.160004   156.979996\n",
              "2011-12-27  154.910004   156.309998   156.039993   157.160004\n",
              "...                ...          ...          ...          ...\n",
              "2018-12-24  120.019997   118.720001   119.239998   117.430000\n",
              "2018-12-26  119.660004   120.019997   118.720001   119.239998\n",
              "2018-12-27  120.570000   119.660004   120.019997   118.720001\n",
              "2018-12-28  121.059998   120.570000   119.660004   120.019997\n",
              "2018-12-31  121.250000   121.059998   120.570000   119.660004\n",
              "\n",
              "[1715 rows x 4 columns]"
            ],
            "text/html": [
              "\n",
              "  <div id=\"df-13b5bb43-1087-45c1-8917-4c70c92817ae\">\n",
              "    <div class=\"colab-df-container\">\n",
              "      <div>\n",
              "<style scoped>\n",
              "    .dataframe tbody tr th:only-of-type {\n",
              "        vertical-align: middle;\n",
              "    }\n",
              "\n",
              "    .dataframe tbody tr th {\n",
              "        vertical-align: top;\n",
              "    }\n",
              "\n",
              "    .dataframe thead th {\n",
              "        text-align: right;\n",
              "    }\n",
              "</style>\n",
              "<table border=\"1\" class=\"dataframe\">\n",
              "  <thead>\n",
              "    <tr style=\"text-align: right;\">\n",
              "      <th></th>\n",
              "      <th>Adj Close</th>\n",
              "      <th>price_Day-1</th>\n",
              "      <th>price_Day-2</th>\n",
              "      <th>price_day-3</th>\n",
              "    </tr>\n",
              "    <tr>\n",
              "      <th>Date</th>\n",
              "      <th></th>\n",
              "      <th></th>\n",
              "      <th></th>\n",
              "      <th></th>\n",
              "    </tr>\n",
              "  </thead>\n",
              "  <tbody>\n",
              "    <tr>\n",
              "      <th>2011-12-20</th>\n",
              "      <td>156.979996</td>\n",
              "      <td>154.869995</td>\n",
              "      <td>155.229996</td>\n",
              "      <td>152.330002</td>\n",
              "    </tr>\n",
              "    <tr>\n",
              "      <th>2011-12-21</th>\n",
              "      <td>157.160004</td>\n",
              "      <td>156.979996</td>\n",
              "      <td>154.869995</td>\n",
              "      <td>155.229996</td>\n",
              "    </tr>\n",
              "    <tr>\n",
              "      <th>2011-12-22</th>\n",
              "      <td>156.039993</td>\n",
              "      <td>157.160004</td>\n",
              "      <td>156.979996</td>\n",
              "      <td>154.869995</td>\n",
              "    </tr>\n",
              "    <tr>\n",
              "      <th>2011-12-23</th>\n",
              "      <td>156.309998</td>\n",
              "      <td>156.039993</td>\n",
              "      <td>157.160004</td>\n",
              "      <td>156.979996</td>\n",
              "    </tr>\n",
              "    <tr>\n",
              "      <th>2011-12-27</th>\n",
              "      <td>154.910004</td>\n",
              "      <td>156.309998</td>\n",
              "      <td>156.039993</td>\n",
              "      <td>157.160004</td>\n",
              "    </tr>\n",
              "    <tr>\n",
              "      <th>...</th>\n",
              "      <td>...</td>\n",
              "      <td>...</td>\n",
              "      <td>...</td>\n",
              "      <td>...</td>\n",
              "    </tr>\n",
              "    <tr>\n",
              "      <th>2018-12-24</th>\n",
              "      <td>120.019997</td>\n",
              "      <td>118.720001</td>\n",
              "      <td>119.239998</td>\n",
              "      <td>117.430000</td>\n",
              "    </tr>\n",
              "    <tr>\n",
              "      <th>2018-12-26</th>\n",
              "      <td>119.660004</td>\n",
              "      <td>120.019997</td>\n",
              "      <td>118.720001</td>\n",
              "      <td>119.239998</td>\n",
              "    </tr>\n",
              "    <tr>\n",
              "      <th>2018-12-27</th>\n",
              "      <td>120.570000</td>\n",
              "      <td>119.660004</td>\n",
              "      <td>120.019997</td>\n",
              "      <td>118.720001</td>\n",
              "    </tr>\n",
              "    <tr>\n",
              "      <th>2018-12-28</th>\n",
              "      <td>121.059998</td>\n",
              "      <td>120.570000</td>\n",
              "      <td>119.660004</td>\n",
              "      <td>120.019997</td>\n",
              "    </tr>\n",
              "    <tr>\n",
              "      <th>2018-12-31</th>\n",
              "      <td>121.250000</td>\n",
              "      <td>121.059998</td>\n",
              "      <td>120.570000</td>\n",
              "      <td>119.660004</td>\n",
              "    </tr>\n",
              "  </tbody>\n",
              "</table>\n",
              "<p>1715 rows × 4 columns</p>\n",
              "</div>\n",
              "      <button class=\"colab-df-convert\" onclick=\"convertToInteractive('df-13b5bb43-1087-45c1-8917-4c70c92817ae')\"\n",
              "              title=\"Convert this dataframe to an interactive table.\"\n",
              "              style=\"display:none;\">\n",
              "        \n",
              "  <svg xmlns=\"http://www.w3.org/2000/svg\" height=\"24px\"viewBox=\"0 0 24 24\"\n",
              "       width=\"24px\">\n",
              "    <path d=\"M0 0h24v24H0V0z\" fill=\"none\"/>\n",
              "    <path d=\"M18.56 5.44l.94 2.06.94-2.06 2.06-.94-2.06-.94-.94-2.06-.94 2.06-2.06.94zm-11 1L8.5 8.5l.94-2.06 2.06-.94-2.06-.94L8.5 2.5l-.94 2.06-2.06.94zm10 10l.94 2.06.94-2.06 2.06-.94-2.06-.94-.94-2.06-.94 2.06-2.06.94z\"/><path d=\"M17.41 7.96l-1.37-1.37c-.4-.4-.92-.59-1.43-.59-.52 0-1.04.2-1.43.59L10.3 9.45l-7.72 7.72c-.78.78-.78 2.05 0 2.83L4 21.41c.39.39.9.59 1.41.59.51 0 1.02-.2 1.41-.59l7.78-7.78 2.81-2.81c.8-.78.8-2.07 0-2.86zM5.41 20L4 18.59l7.72-7.72 1.47 1.35L5.41 20z\"/>\n",
              "  </svg>\n",
              "      </button>\n",
              "      \n",
              "  <style>\n",
              "    .colab-df-container {\n",
              "      display:flex;\n",
              "      flex-wrap:wrap;\n",
              "      gap: 12px;\n",
              "    }\n",
              "\n",
              "    .colab-df-convert {\n",
              "      background-color: #E8F0FE;\n",
              "      border: none;\n",
              "      border-radius: 50%;\n",
              "      cursor: pointer;\n",
              "      display: none;\n",
              "      fill: #1967D2;\n",
              "      height: 32px;\n",
              "      padding: 0 0 0 0;\n",
              "      width: 32px;\n",
              "    }\n",
              "\n",
              "    .colab-df-convert:hover {\n",
              "      background-color: #E2EBFA;\n",
              "      box-shadow: 0px 1px 2px rgba(60, 64, 67, 0.3), 0px 1px 3px 1px rgba(60, 64, 67, 0.15);\n",
              "      fill: #174EA6;\n",
              "    }\n",
              "\n",
              "    [theme=dark] .colab-df-convert {\n",
              "      background-color: #3B4455;\n",
              "      fill: #D2E3FC;\n",
              "    }\n",
              "\n",
              "    [theme=dark] .colab-df-convert:hover {\n",
              "      background-color: #434B5C;\n",
              "      box-shadow: 0px 1px 3px 1px rgba(0, 0, 0, 0.15);\n",
              "      filter: drop-shadow(0px 1px 2px rgba(0, 0, 0, 0.3));\n",
              "      fill: #FFFFFF;\n",
              "    }\n",
              "  </style>\n",
              "\n",
              "      <script>\n",
              "        const buttonEl =\n",
              "          document.querySelector('#df-13b5bb43-1087-45c1-8917-4c70c92817ae button.colab-df-convert');\n",
              "        buttonEl.style.display =\n",
              "          google.colab.kernel.accessAllowed ? 'block' : 'none';\n",
              "\n",
              "        async function convertToInteractive(key) {\n",
              "          const element = document.querySelector('#df-13b5bb43-1087-45c1-8917-4c70c92817ae');\n",
              "          const dataTable =\n",
              "            await google.colab.kernel.invokeFunction('convertToInteractive',\n",
              "                                                     [key], {});\n",
              "          if (!dataTable) return;\n",
              "\n",
              "          const docLinkHtml = 'Like what you see? Visit the ' +\n",
              "            '<a target=\"_blank\" href=https://colab.research.google.com/notebooks/data_table.ipynb>data table notebook</a>'\n",
              "            + ' to learn more about interactive tables.';\n",
              "          element.innerHTML = '';\n",
              "          dataTable['output_type'] = 'display_data';\n",
              "          await google.colab.output.renderOutput(dataTable, element);\n",
              "          const docLink = document.createElement('div');\n",
              "          docLink.innerHTML = docLinkHtml;\n",
              "          element.appendChild(docLink);\n",
              "        }\n",
              "      </script>\n",
              "    </div>\n",
              "  </div>\n",
              "  "
            ]
          },
          "metadata": {},
          "execution_count": 41
        }
      ],
      "source": [
        "dclose=dclose.dropna()\n",
        "dclose"
      ]
    },
    {
      "cell_type": "code",
      "execution_count": 42,
      "metadata": {
        "id": "ldissJzpUhJY"
      },
      "outputs": [],
      "source": [
        "from sklearn.linear_model import LinearRegression\n",
        "lin_model=LinearRegression()"
      ]
    },
    {
      "cell_type": "code",
      "execution_count": 43,
      "metadata": {
        "id": "dkmQknONUj1T"
      },
      "outputs": [],
      "source": [
        "from sklearn.ensemble import RandomForestRegressor\n",
        "modelRF=RandomForestRegressor(n_estimators=100,max_features=3, random_state=1)"
      ]
    },
    {
      "cell_type": "code",
      "execution_count": 44,
      "metadata": {
        "colab": {
          "base_uri": "https://localhost:8080/"
        },
        "id": "TI098dpYUncj",
        "outputId": "f08a3f4e-c96a-4d62-bf2f-1c1ace4d088a"
      },
      "outputs": [
        {
          "output_type": "stream",
          "name": "stdout",
          "text": [
            "[[154.869995 155.229996 152.330002]\n",
            " [156.979996 154.869995 155.229996]\n",
            " [157.160004 156.979996 154.869995]\n",
            " ...\n",
            " [119.660004 120.019997 118.720001]\n",
            " [120.57     119.660004 120.019997]\n",
            " [121.059998 120.57     119.660004]]\n"
          ]
        }
      ],
      "source": [
        "import numpy as np\n",
        "x1,x2,x3,y=dclose['price_Day-1'],dclose['price_Day-2'],dclose['price_day-3'],dclose['Adj Close']\n",
        "x1,x2,x3,y=np.array(x1),np.array(x2),np.array(x3),np.array(y)\n",
        "x1,x2,x3,y=x1.reshape(-1,1),x2.reshape(-1,1),x3.reshape(-1,1),y.reshape(-1,1)\n",
        "final_x=np.concatenate((x1,x2,x3),axis=1)\n",
        "print(final_x)"
      ]
    },
    {
      "cell_type": "code",
      "execution_count": 45,
      "metadata": {
        "id": "tu8rWEJEVGYi"
      },
      "outputs": [],
      "source": [
        "X_train,X_test,y_train,y_test=final_x[:-30],final_x[-30:],y[:-30],y[-30:]"
      ]
    },
    {
      "cell_type": "code",
      "execution_count": 46,
      "metadata": {
        "colab": {
          "base_uri": "https://localhost:8080/"
        },
        "id": "TeSLc3JAVZdo",
        "outputId": "e3a0dae6-d8ee-4f08-cece-ffb15fe49cd2"
      },
      "outputs": [
        {
          "output_type": "execute_result",
          "data": {
            "text/plain": [
              "LinearRegression()"
            ]
          },
          "metadata": {},
          "execution_count": 46
        }
      ],
      "source": [
        "modelRF.fit(X_train,y_train)\n",
        "lin_model.fit(X_train,y_train)"
      ]
    },
    {
      "cell_type": "code",
      "execution_count": 47,
      "metadata": {
        "colab": {
          "base_uri": "https://localhost:8080/",
          "height": 265
        },
        "id": "BPf_IsaEVjbi",
        "outputId": "aa97ea82-c5ff-4c62-c857-519941913389"
      },
      "outputs": [
        {
          "output_type": "display_data",
          "data": {
            "text/plain": [
              "<Figure size 432x288 with 1 Axes>"
            ],
            "image/png": "[encoded data removed]"
          },
          "metadata": {
            "needs_background": "light"
          }
        }
      ],
      "source": [
        "predRF=modelRF.predict(X_test)\n",
        "import matplotlib.pyplot as plt\n",
        "plt.rcParams[\"figure.figsize\"] = (6,4)\n",
        "plt.plot(pred,label='Random_Forest_Predictions')\n",
        "plt.plot(y_test,label='Actual Sales')\n",
        "plt.legend(loc=\"upper left\")\n",
        "plt.show()\n",
        "\n"
      ]
    },
    {
      "cell_type": "code",
      "execution_count": 48,
      "metadata": {
        "colab": {
          "base_uri": "https://localhost:8080/",
          "height": 265
        },
        "id": "QclDfdvGWYeC",
        "outputId": "588c2702-64a6-4f93-f8e5-201a39ef3404"
      },
      "outputs": [
        {
          "output_type": "display_data",
          "data": {
            "text/plain": [
              "<Figure size 432x288 with 1 Axes>"
            ],
            "image/png": "[encoded data removed]"
          },
          "metadata": {
            "needs_background": "light"
          }
        }
      ],
      "source": [
        "lin_pred=lin_model.predict(X_test)\n",
        "import matplotlib.pyplot as plt\n",
        "plt.rcParams[\"figure.figsize\"] = (6,4)\n",
        "plt.plot(lin_pred,label='Linear_Regression_Predictions')\n",
        "plt.plot(y_test,label='Actual Sales')\n",
        "plt.legend(loc=\"upper left\")\n",
        "plt.show()"
      ]
    },
    {
      "cell_type": "code",
      "source": [
        "dclose['Adj Close']"
      ],
      "metadata": {
        "colab": {
          "base_uri": "https://localhost:8080/"
        },
        "id": "xFyM-6qkWvYK",
        "outputId": "e24276b8-0013-44d1-f315-a3032f5b2dd9"
      },
      "execution_count": 90,
      "outputs": [
        {
          "output_type": "execute_result",
          "data": {
            "text/plain": [
              "Date\n",
              "2011-12-20    156.979996\n",
              "2011-12-21    157.160004\n",
              "2011-12-22    156.039993\n",
              "2011-12-23    156.309998\n",
              "2011-12-27    154.910004\n",
              "                 ...    \n",
              "2018-12-24    120.019997\n",
              "2018-12-26    119.660004\n",
              "2018-12-27    120.570000\n",
              "2018-12-28    121.059998\n",
              "2018-12-31    121.250000\n",
              "Name: Adj Close, Length: 1715, dtype: float64"
            ]
          },
          "metadata": {},
          "execution_count": 90
        }
      ]
    },
    {
      "cell_type": "code",
      "source": [
        "ma100 = dclose['Adj Close'].rolling(100).mean()\n",
        "ma100"
      ],
      "metadata": {
        "colab": {
          "base_uri": "https://localhost:8080/"
        },
        "id": "9HZ8XSMsWeMW",
        "outputId": "6a7261c4-4245-40ec-f5c5-4f03112871a0"
      },
      "execution_count": 92,
      "outputs": [
        {
          "output_type": "execute_result",
          "data": {
            "text/plain": [
              "Date\n",
              "2011-12-20         NaN\n",
              "2011-12-21         NaN\n",
              "2011-12-22         NaN\n",
              "2011-12-23         NaN\n",
              "2011-12-27         NaN\n",
              "                ...   \n",
              "2018-12-24    114.9545\n",
              "2018-12-26    114.9912\n",
              "2018-12-27    115.0455\n",
              "2018-12-28    115.1109\n",
              "2018-12-31    115.1742\n",
              "Name: Adj Close, Length: 1715, dtype: float64"
            ]
          },
          "metadata": {},
          "execution_count": 92
        }
      ]
    },
    {
      "cell_type": "code",
      "source": [
        "plt.figure(figsize=(12,6))\n",
        "plt.plot(dclose['Adj Close'])\n",
        "plt.plot(ma100)\n",
        "plt.show()"
      ],
      "metadata": {
        "colab": {
          "base_uri": "https://localhost:8080/",
          "height": 555
        },
        "id": "8EXZJ9HiXUmU",
        "outputId": "6512610c-35dc-4957-8c24-9739fca3d759"
      },
      "execution_count": 94,
      "outputs": [
        {
          "output_type": "stream",
          "name": "stderr",
          "text": [
            "INFO:matplotlib.category:Using categorical units to plot a list of strings that are all parsable as floats or dates. If these strings should be plotted as numbers, cast to the appropriate data type before plotting.\n",
            "2022-10-08 16:08:49.443 INFO    matplotlib.category: Using categorical units to plot a list of strings that are all parsable as floats or dates. If these strings should be plotted as numbers, cast to the appropriate data type before plotting.\n",
            "INFO:matplotlib.category:Using categorical units to plot a list of strings that are all parsable as floats or dates. If these strings should be plotted as numbers, cast to the appropriate data type before plotting.\n",
            "2022-10-08 16:08:49.545 INFO    matplotlib.category: Using categorical units to plot a list of strings that are all parsable as floats or dates. If these strings should be plotted as numbers, cast to the appropriate data type before plotting.\n",
            "INFO:matplotlib.category:Using categorical units to plot a list of strings that are all parsable as floats or dates. If these strings should be plotted as numbers, cast to the appropriate data type before plotting.\n",
            "2022-10-08 16:08:49.642 INFO    matplotlib.category: Using categorical units to plot a list of strings that are all parsable as floats or dates. If these strings should be plotted as numbers, cast to the appropriate data type before plotting.\n",
            "INFO:matplotlib.category:Using categorical units to plot a list of strings that are all parsable as floats or dates. If these strings should be plotted as numbers, cast to the appropriate data type before plotting.\n",
            "2022-10-08 16:08:49.741 INFO    matplotlib.category: Using categorical units to plot a list of strings that are all parsable as floats or dates. If these strings should be plotted as numbers, cast to the appropriate data type before plotting.\n"
          ]
        },
        {
          "output_type": "execute_result",
          "data": {
            "text/plain": [
              "[<matplotlib.lines.Line2D at 0x7f99d8eeb750>]"
            ]
          },
          "metadata": {},
          "execution_count": 94
        },
        {
          "output_type": "display_data",
          "data": {
            "text/plain": [
              "<Figure size 864x432 with 1 Axes>"
            ],
            "image/png": "[encoded data removed]"
          },
          "metadata": {
            "needs_background": "light"
          }
        }
      ]
    },
    {
      "cell_type": "code",
      "source": [
        "ma200 = dclose['Adj Close'].rolling(200).mean()\n",
        "ma200"
      ],
      "metadata": {
        "colab": {
          "base_uri": "https://localhost:8080/"
        },
        "id": "mYvujIScX9iK",
        "outputId": "affe97fa-d99a-4365-e9c0-dfa74db54e22"
      },
      "execution_count": 95,
      "outputs": [
        {
          "output_type": "execute_result",
          "data": {
            "text/plain": [
              "Date\n",
              "2011-12-20          NaN\n",
              "2011-12-21          NaN\n",
              "2011-12-22          NaN\n",
              "2011-12-23          NaN\n",
              "2011-12-27          NaN\n",
              "                ...    \n",
              "2018-12-24    118.88460\n",
              "2018-12-26    118.85580\n",
              "2018-12-27    118.83095\n",
              "2018-12-28    118.80855\n",
              "2018-12-31    118.78590\n",
              "Name: Adj Close, Length: 1715, dtype: float64"
            ]
          },
          "metadata": {},
          "execution_count": 95
        }
      ]
    },
    {
      "cell_type": "code",
      "source": [
        "plt.figure(figsize=(12,6))\n",
        "plt.plot(dclose['Adj Close'])\n",
        "plt.plot(ma200)\n",
        "plt.show()"
      ],
      "metadata": {
        "colab": {
          "base_uri": "https://localhost:8080/",
          "height": 537
        },
        "id": "Lc9tWVncYBcz",
        "outputId": "cd7e66e5-020d-4b90-9fbd-c78331430ddb"
      },
      "execution_count": 96,
      "outputs": [
        {
          "output_type": "stream",
          "name": "stderr",
          "text": [
            "INFO:matplotlib.category:Using categorical units to plot a list of strings that are all parsable as floats or dates. If these strings should be plotted as numbers, cast to the appropriate data type before plotting.\n",
            "2022-10-08 16:10:19.464 INFO    matplotlib.category: Using categorical units to plot a list of strings that are all parsable as floats or dates. If these strings should be plotted as numbers, cast to the appropriate data type before plotting.\n",
            "INFO:matplotlib.category:Using categorical units to plot a list of strings that are all parsable as floats or dates. If these strings should be plotted as numbers, cast to the appropriate data type before plotting.\n",
            "2022-10-08 16:10:19.566 INFO    matplotlib.category: Using categorical units to plot a list of strings that are all parsable as floats or dates. If these strings should be plotted as numbers, cast to the appropriate data type before plotting.\n",
            "INFO:matplotlib.category:Using categorical units to plot a list of strings that are all parsable as floats or dates. If these strings should be plotted as numbers, cast to the appropriate data type before plotting.\n",
            "2022-10-08 16:10:19.664 INFO    matplotlib.category: Using categorical units to plot a list of strings that are all parsable as floats or dates. If these strings should be plotted as numbers, cast to the appropriate data type before plotting.\n",
            "INFO:matplotlib.category:Using categorical units to plot a list of strings that are all parsable as floats or dates. If these strings should be plotted as numbers, cast to the appropriate data type before plotting.\n",
            "2022-10-08 16:10:19.764 INFO    matplotlib.category: Using categorical units to plot a list of strings that are all parsable as floats or dates. If these strings should be plotted as numbers, cast to the appropriate data type before plotting.\n"
          ]
        },
        {
          "output_type": "display_data",
          "data": {
            "text/plain": [
              "<Figure size 864x432 with 1 Axes>"
            ],
            "image/png": "[encoded data removed]"
          },
          "metadata": {
            "needs_background": "light"
          }
        }
      ]
    },
    {
      "cell_type": "code",
      "source": [
        "import pickle"
      ],
      "metadata": {
        "id": "MXuTJ_QJRNyK"
      },
      "execution_count": 74,
      "outputs": []
    },
    {
      "cell_type": "code",
      "source": [
        "l_file = 'trained_model.sav'\n",
        "pickle.dump(lin_model, open(l_file, 'wb'))"
      ],
      "metadata": {
        "id": "qvhU9EE-RRej"
      },
      "execution_count": 76,
      "outputs": []
    },
    {
      "cell_type": "code",
      "execution_count": 49,
      "metadata": {
        "id": "stGocWYrWk8B"
      },
      "outputs": [],
      "source": [
        "from sklearn.metrics import mean_squared_error\n",
        "from math import sqrt\n",
        "rmse_rf=sqrt(mean_squared_error(predRF,y_test))\n",
        "rmse_lr=sqrt(mean_squared_error(lin_pred,y_test))"
      ]
    },
    {
      "cell_type": "code",
      "execution_count": 50,
      "metadata": {
        "colab": {
          "base_uri": "https://localhost:8080/"
        },
        "id": "76T7TusNWoKy",
        "outputId": "1626cc95-18d7-4ba7-bd59-635c5b805a2c"
      },
      "outputs": [
        {
          "output_type": "stream",
          "name": "stdout",
          "text": [
            "Mean Squared Error for Random Forest Model is: 0.9247853642328762\n",
            "Mean Squared Error for Linear Regression Model is: 0.631557301746101\n"
          ]
        }
      ],
      "source": [
        "print('Mean Squared Error for Random Forest Model is:',rmse_rf)\n",
        "print('Mean Squared Error for Linear Regression Model is:',rmse_lr)"
      ]
    },
    {
      "cell_type": "markdown",
      "metadata": {
        "id": "32sNFrqEW-Ag"
      },
      "source": [
        "# **Multi Variate forecasting using VAR model**"
      ]
    },
    {
      "cell_type": "code",
      "execution_count": 51,
      "metadata": {
        "id": "OTxuva6AWyJD"
      },
      "outputs": [],
      "source": [
        "from statsmodels.graphics.tsaplots import plot_acf, plot_pacf\n",
        "from statsmodels.tsa.statespace.varmax import VARMAX\n",
        "from statsmodels.tsa.api import VAR\n",
        "from statsmodels.tsa.stattools import grangercausalitytests, adfuller\n",
        "from tqdm import tqdm_notebook\n",
        "from itertools import product\n",
        "\n",
        "import matplotlib.pyplot as plt\n",
        "import statsmodels.api as sm\n",
        "import pandas as pd\n",
        "import numpy as np\n",
        "\n",
        "import warnings\n",
        "warnings.filterwarnings('ignore')"
      ]
    },
    {
      "cell_type": "code",
      "execution_count": 52,
      "metadata": {
        "colab": {
          "base_uri": "https://localhost:8080/",
          "height": 317
        },
        "id": "a1A5vd9SheB-",
        "outputId": "800430cd-00f4-4b33-94a4-d166fd4168ef"
      },
      "outputs": [
        {
          "output_type": "execute_result",
          "data": {
            "text/plain": [
              "         Date        Open        High         Low       Close   Adj Close  \\\n",
              "0  2011-12-15  154.740005  154.949997  151.710007  152.330002  152.330002   \n",
              "1  2011-12-16  154.309998  155.369995  153.899994  155.229996  155.229996   \n",
              "2  2011-12-19  155.479996  155.860001  154.360001  154.869995  154.869995   \n",
              "3  2011-12-20  156.820007  157.429993  156.580002  156.979996  156.979996   \n",
              "4  2011-12-21  156.979996  157.529999  156.130005  157.160004  157.160004   \n",
              "\n",
              "     Volume     SP_open     SP_high      SP_low  ...    GDX_Low  GDX_Close  \\\n",
              "0  21521900  123.029999  123.199997  121.989998  ...  51.570000  51.680000   \n",
              "1  18124300  122.230003  122.949997  121.300003  ...  52.040001  52.680000   \n",
              "2  12547200  122.059998  122.320000  120.029999  ...  51.029999  51.169998   \n",
              "3   9136300  122.180000  124.139999  120.370003  ...  52.369999  52.990002   \n",
              "4  11996100  123.930000  124.360001  122.750000  ...  52.419998  52.959999   \n",
              "\n",
              "   GDX_Adj Close  GDX_Volume   USO_Open   USO_High    USO_Low  USO_Close  \\\n",
              "0      48.973877    20605600  36.900002  36.939999  36.049999  36.130001   \n",
              "1      49.921513    16285400  36.180000  36.500000  35.730000  36.270000   \n",
              "2      48.490578    15120200  36.389999  36.450001  35.930000  36.200001   \n",
              "3      50.215282    11644900  37.299999  37.610001  37.220001  37.560001   \n",
              "4      50.186852     8724300  37.669998  38.240002  37.520000  38.110001   \n",
              "\n",
              "   USO_Adj Close  USO_Volume  \n",
              "0      36.130001    12616700  \n",
              "1      36.270000    12578800  \n",
              "2      36.200001     7418200  \n",
              "3      37.560001    10041600  \n",
              "4      38.110001    10728000  \n",
              "\n",
              "[5 rows x 81 columns]"
            ],
            "text/html": [
              "\n",
              "  <div id=\"df-e8d54db7-792f-4994-bd1b-2d5e4e13c306\">\n",
              "    <div class=\"colab-df-container\">\n",
              "      <div>\n",
              "<style scoped>\n",
              "    .dataframe tbody tr th:only-of-type {\n",
              "        vertical-align: middle;\n",
              "    }\n",
              "\n",
              "    .dataframe tbody tr th {\n",
              "        vertical-align: top;\n",
              "    }\n",
              "\n",
              "    .dataframe thead th {\n",
              "        text-align: right;\n",
              "    }\n",
              "</style>\n",
              "<table border=\"1\" class=\"dataframe\">\n",
              "  <thead>\n",
              "    <tr style=\"text-align: right;\">\n",
              "      <th></th>\n",
              "      <th>Date</th>\n",
              "      <th>Open</th>\n",
              "      <th>High</th>\n",
              "      <th>Low</th>\n",
              "      <th>Close</th>\n",
              "      <th>Adj Close</th>\n",
              "      <th>Volume</th>\n",
              "      <th>SP_open</th>\n",
              "      <th>SP_high</th>\n",
              "      <th>SP_low</th>\n",
              "      <th>...</th>\n",
              "      <th>GDX_Low</th>\n",
              "      <th>GDX_Close</th>\n",
              "      <th>GDX_Adj Close</th>\n",
              "      <th>GDX_Volume</th>\n",
              "      <th>USO_Open</th>\n",
              "      <th>USO_High</th>\n",
              "      <th>USO_Low</th>\n",
              "      <th>USO_Close</th>\n",
              "      <th>USO_Adj Close</th>\n",
              "      <th>USO_Volume</th>\n",
              "    </tr>\n",
              "  </thead>\n",
              "  <tbody>\n",
              "    <tr>\n",
              "      <th>0</th>\n",
              "      <td>2011-12-15</td>\n",
              "      <td>154.740005</td>\n",
              "      <td>154.949997</td>\n",
              "      <td>151.710007</td>\n",
              "      <td>152.330002</td>\n",
              "      <td>152.330002</td>\n",
              "      <td>21521900</td>\n",
              "      <td>123.029999</td>\n",
              "      <td>123.199997</td>\n",
              "      <td>121.989998</td>\n",
              "      <td>...</td>\n",
              "      <td>51.570000</td>\n",
              "      <td>51.680000</td>\n",
              "      <td>48.973877</td>\n",
              "      <td>20605600</td>\n",
              "      <td>36.900002</td>\n",
              "      <td>36.939999</td>\n",
              "      <td>36.049999</td>\n",
              "      <td>36.130001</td>\n",
              "      <td>36.130001</td>\n",
              "      <td>12616700</td>\n",
              "    </tr>\n",
              "    <tr>\n",
              "      <th>1</th>\n",
              "      <td>2011-12-16</td>\n",
              "      <td>154.309998</td>\n",
              "      <td>155.369995</td>\n",
              "      <td>153.899994</td>\n",
              "      <td>155.229996</td>\n",
              "      <td>155.229996</td>\n",
              "      <td>18124300</td>\n",
              "      <td>122.230003</td>\n",
              "      <td>122.949997</td>\n",
              "      <td>121.300003</td>\n",
              "      <td>...</td>\n",
              "      <td>52.040001</td>\n",
              "      <td>52.680000</td>\n",
              "      <td>49.921513</td>\n",
              "      <td>16285400</td>\n",
              "      <td>36.180000</td>\n",
              "      <td>36.500000</td>\n",
              "      <td>35.730000</td>\n",
              "      <td>36.270000</td>\n",
              "      <td>36.270000</td>\n",
              "      <td>12578800</td>\n",
              "    </tr>\n",
              "    <tr>\n",
              "      <th>2</th>\n",
              "      <td>2011-12-19</td>\n",
              "      <td>155.479996</td>\n",
              "      <td>155.860001</td>\n",
              "      <td>154.360001</td>\n",
              "      <td>154.869995</td>\n",
              "      <td>154.869995</td>\n",
              "      <td>12547200</td>\n",
              "      <td>122.059998</td>\n",
              "      <td>122.320000</td>\n",
              "      <td>120.029999</td>\n",
              "      <td>...</td>\n",
              "      <td>51.029999</td>\n",
              "      <td>51.169998</td>\n",
              "      <td>48.490578</td>\n",
              "      <td>15120200</td>\n",
              "      <td>36.389999</td>\n",
              "      <td>36.450001</td>\n",
              "      <td>35.930000</td>\n",
              "      <td>36.200001</td>\n",
              "      <td>36.200001</td>\n",
              "      <td>7418200</td>\n",
              "    </tr>\n",
              "    <tr>\n",
              "      <th>3</th>\n",
              "      <td>2011-12-20</td>\n",
              "      <td>156.820007</td>\n",
              "      <td>157.429993</td>\n",
              "      <td>156.580002</td>\n",
              "      <td>156.979996</td>\n",
              "      <td>156.979996</td>\n",
              "      <td>9136300</td>\n",
              "      <td>122.180000</td>\n",
              "      <td>124.139999</td>\n",
              "      <td>120.370003</td>\n",
              "      <td>...</td>\n",
              "      <td>52.369999</td>\n",
              "      <td>52.990002</td>\n",
              "      <td>50.215282</td>\n",
              "      <td>11644900</td>\n",
              "      <td>37.299999</td>\n",
              "      <td>37.610001</td>\n",
              "      <td>37.220001</td>\n",
              "      <td>37.560001</td>\n",
              "      <td>37.560001</td>\n",
              "      <td>10041600</td>\n",
              "    </tr>\n",
              "    <tr>\n",
              "      <th>4</th>\n",
              "      <td>2011-12-21</td>\n",
              "      <td>156.979996</td>\n",
              "      <td>157.529999</td>\n",
              "      <td>156.130005</td>\n",
              "      <td>157.160004</td>\n",
              "      <td>157.160004</td>\n",
              "      <td>11996100</td>\n",
              "      <td>123.930000</td>\n",
              "      <td>124.360001</td>\n",
              "      <td>122.750000</td>\n",
              "      <td>...</td>\n",
              "      <td>52.419998</td>\n",
              "      <td>52.959999</td>\n",
              "      <td>50.186852</td>\n",
              "      <td>8724300</td>\n",
              "      <td>37.669998</td>\n",
              "      <td>38.240002</td>\n",
              "      <td>37.520000</td>\n",
              "      <td>38.110001</td>\n",
              "      <td>38.110001</td>\n",
              "      <td>10728000</td>\n",
              "    </tr>\n",
              "  </tbody>\n",
              "</table>\n",
              "<p>5 rows × 81 columns</p>\n",
              "</div>\n",
              "      <button class=\"colab-df-convert\" onclick=\"convertToInteractive('df-e8d54db7-792f-4994-bd1b-2d5e4e13c306')\"\n",
              "              title=\"Convert this dataframe to an interactive table.\"\n",
              "              style=\"display:none;\">\n",
              "        \n",
              "  <svg xmlns=\"http://www.w3.org/2000/svg\" height=\"24px\"viewBox=\"0 0 24 24\"\n",
              "       width=\"24px\">\n",
              "    <path d=\"M0 0h24v24H0V0z\" fill=\"none\"/>\n",
              "    <path d=\"M18.56 5.44l.94 2.06.94-2.06 2.06-.94-2.06-.94-.94-2.06-.94 2.06-2.06.94zm-11 1L8.5 8.5l.94-2.06 2.06-.94-2.06-.94L8.5 2.5l-.94 2.06-2.06.94zm10 10l.94 2.06.94-2.06 2.06-.94-2.06-.94-.94-2.06-.94 2.06-2.06.94z\"/><path d=\"M17.41 7.96l-1.37-1.37c-.4-.4-.92-.59-1.43-.59-.52 0-1.04.2-1.43.59L10.3 9.45l-7.72 7.72c-.78.78-.78 2.05 0 2.83L4 21.41c.39.39.9.59 1.41.59.51 0 1.02-.2 1.41-.59l7.78-7.78 2.81-2.81c.8-.78.8-2.07 0-2.86zM5.41 20L4 18.59l7.72-7.72 1.47 1.35L5.41 20z\"/>\n",
              "  </svg>\n",
              "      </button>\n",
              "      \n",
              "  <style>\n",
              "    .colab-df-container {\n",
              "      display:flex;\n",
              "      flex-wrap:wrap;\n",
              "      gap: 12px;\n",
              "    }\n",
              "\n",
              "    .colab-df-convert {\n",
              "      background-color: #E8F0FE;\n",
              "      border: none;\n",
              "      border-radius: 50%;\n",
              "      cursor: pointer;\n",
              "      display: none;\n",
              "      fill: #1967D2;\n",
              "      height: 32px;\n",
              "      padding: 0 0 0 0;\n",
              "      width: 32px;\n",
              "    }\n",
              "\n",
              "    .colab-df-convert:hover {\n",
              "      background-color: #E2EBFA;\n",
              "      box-shadow: 0px 1px 2px rgba(60, 64, 67, 0.3), 0px 1px 3px 1px rgba(60, 64, 67, 0.15);\n",
              "      fill: #174EA6;\n",
              "    }\n",
              "\n",
              "    [theme=dark] .colab-df-convert {\n",
              "      background-color: #3B4455;\n",
              "      fill: #D2E3FC;\n",
              "    }\n",
              "\n",
              "    [theme=dark] .colab-df-convert:hover {\n",
              "      background-color: #434B5C;\n",
              "      box-shadow: 0px 1px 3px 1px rgba(0, 0, 0, 0.15);\n",
              "      filter: drop-shadow(0px 1px 2px rgba(0, 0, 0, 0.3));\n",
              "      fill: #FFFFFF;\n",
              "    }\n",
              "  </style>\n",
              "\n",
              "      <script>\n",
              "        const buttonEl =\n",
              "          document.querySelector('#df-e8d54db7-792f-4994-bd1b-2d5e4e13c306 button.colab-df-convert');\n",
              "        buttonEl.style.display =\n",
              "          google.colab.kernel.accessAllowed ? 'block' : 'none';\n",
              "\n",
              "        async function convertToInteractive(key) {\n",
              "          const element = document.querySelector('#df-e8d54db7-792f-4994-bd1b-2d5e4e13c306');\n",
              "          const dataTable =\n",
              "            await google.colab.kernel.invokeFunction('convertToInteractive',\n",
              "                                                     [key], {});\n",
              "          if (!dataTable) return;\n",
              "\n",
              "          const docLinkHtml = 'Like what you see? Visit the ' +\n",
              "            '<a target=\"_blank\" href=https://colab.research.google.com/notebooks/data_table.ipynb>data table notebook</a>'\n",
              "            + ' to learn more about interactive tables.';\n",
              "          element.innerHTML = '';\n",
              "          dataTable['output_type'] = 'display_data';\n",
              "          await google.colab.output.renderOutput(dataTable, element);\n",
              "          const docLink = document.createElement('div');\n",
              "          docLink.innerHTML = docLinkHtml;\n",
              "          element.appendChild(docLink);\n",
              "        }\n",
              "      </script>\n",
              "    </div>\n",
              "  </div>\n",
              "  "
            ]
          },
          "metadata": {},
          "execution_count": 52
        }
      ],
      "source": [
        "goldp.head()"
      ]
    },
    {
      "cell_type": "code",
      "execution_count": 53,
      "metadata": {
        "id": "bjJVK04-iMpp"
      },
      "outputs": [],
      "source": [
        "df_multi = goldp[['Date', 'Open', 'High', 'Low', 'Close', 'Adj Close', 'Volume']]"
      ]
    },
    {
      "cell_type": "code",
      "execution_count": 54,
      "metadata": {
        "colab": {
          "base_uri": "https://localhost:8080/",
          "height": 576
        },
        "id": "aaNMbmB0hrWG",
        "outputId": "48d3649f-ac4b-4fd1-eeb8-b110d123059a"
      },
      "outputs": [
        {
          "output_type": "display_data",
          "data": {
            "text/plain": [
              "<Figure size 1200x720 with 6 Axes>"
            ],
            "image/png": "[encoded data removed]"
          },
          "metadata": {
            "needs_background": "light"
          }
        }
      ],
      "source": [
        "fig, axes = plt.subplots(nrows=3, ncols=2, dpi=120, figsize=(10,6))\n",
        "for i, ax in enumerate(axes.flatten()):\n",
        "    data = df_multi[df_multi.columns[i+1]]\n",
        "    ax.plot(data, color='red', linewidth=1)\n",
        "    # Decorations\n",
        "    ax.set_title(df_multi.columns[i+1])\n",
        "    ax.xaxis.set_ticks_position('none')\n",
        "    ax.yaxis.set_ticks_position('none')\n",
        "    ax.spines[\"top\"].set_alpha(0)\n",
        "    ax.tick_params(labelsize=6)\n",
        "\n",
        "plt.tight_layout();"
      ]
    },
    {
      "cell_type": "code",
      "execution_count": 55,
      "metadata": {
        "colab": {
          "base_uri": "https://localhost:8080/"
        },
        "id": "VzAbT8Oevx5l",
        "outputId": "c5c56531-1519-49d2-c312-fdc9c46f2bbf"
      },
      "outputs": [
        {
          "output_type": "stream",
          "name": "stdout",
          "text": [
            "Open\n",
            "ADF Statistic: -1.8463008423644875\n",
            "p-value: 0.35772875583369135\n",
            "\n",
            "---------------------\n",
            "\n",
            "High\n",
            "ADF Statistic: -1.7801526424376253\n",
            "p-value: 0.390358918360314\n",
            "Low\n",
            "ADF Statistic: -1.8089020844046304\n",
            "p-value: 0.3760510982793282\n",
            "\n",
            "---------------------\n",
            "\n",
            "Close\n",
            "ADF Statistic: -1.8234601291067782\n",
            "p-value: 0.3688781538232954\n",
            "Adj Close\n",
            "ADF Statistic: -1.8234601291067782\n",
            "p-value: 0.3688781538232954\n",
            "\n",
            "---------------------\n",
            "\n",
            "Volume\n",
            "ADF Statistic: -6.371130588592106\n",
            "p-value: 2.3436140451806365e-08\n"
          ]
        }
      ],
      "source": [
        "ad_fuller_result_1 = adfuller(df_multi['Open'])#.diff()[1:])\n",
        "\n",
        "print('Open')\n",
        "print(f'ADF Statistic: {ad_fuller_result_1[0]}')\n",
        "print(f'p-value: {ad_fuller_result_1[1]}')\n",
        "\n",
        "print('\\n---------------------\\n')\n",
        "\n",
        "ad_fuller_result_2 = adfuller(df_multi['High'])#.diff()[1:])\n",
        "\n",
        "print('High')\n",
        "print(f'ADF Statistic: {ad_fuller_result_2[0]}')\n",
        "print(f'p-value: {ad_fuller_result_2[1]}')\n",
        "\n",
        "ad_fuller_result_3= adfuller(df_multi['Low'])#.diff()[1:])\n",
        "\n",
        "print('Low')\n",
        "print(f'ADF Statistic: {ad_fuller_result_3[0]}')\n",
        "print(f'p-value: {ad_fuller_result_3[1]}')\n",
        "\n",
        "print('\\n---------------------\\n')\n",
        "\n",
        "ad_fuller_result_4 = adfuller(df_multi['Close'])#.diff()[1:])\n",
        "\n",
        "print('Close')\n",
        "print(f'ADF Statistic: {ad_fuller_result_4[0]}')\n",
        "print(f'p-value: {ad_fuller_result_4[1]}')\n",
        "\n",
        "ad_fuller_result_5 = adfuller(df_multi['Adj Close'])#.diff()[1:])\n",
        "\n",
        "print('Adj Close')\n",
        "print(f'ADF Statistic: {ad_fuller_result_5[0]}')\n",
        "print(f'p-value: {ad_fuller_result_5[1]}')\n",
        "\n",
        "print('\\n---------------------\\n')\n",
        "\n",
        "ad_fuller_result_6 = adfuller(df_multi['Volume'])#.diff()[1:])\n",
        "\n",
        "print('Volume')\n",
        "print(f'ADF Statistic: {ad_fuller_result_6[0]}')\n",
        "print(f'p-value: {ad_fuller_result_6[1]}')"
      ]
    },
    {
      "cell_type": "markdown",
      "metadata": {
        "id": "sXxQNKv4w31K"
      },
      "source": [
        "**Shows that my data is not stationary and we need to convert it into stationary? We are going to use simle differencing to make it stationary**"
      ]
    },
    {
      "cell_type": "code",
      "execution_count": 56,
      "metadata": {
        "colab": {
          "base_uri": "https://localhost:8080/"
        },
        "id": "vUcX52B_i0ZP",
        "outputId": "cf09445a-4e47-4054-9349-57bcee5cdb5c"
      },
      "outputs": [
        {
          "output_type": "stream",
          "name": "stdout",
          "text": [
            "Open\n",
            "ADF Statistic: -30.749057493223155\n",
            "p-value: 0.0\n",
            "\n",
            "---------------------\n",
            "\n",
            "High\n",
            "ADF Statistic: -41.897281886634616\n",
            "p-value: 0.0\n",
            "Low\n",
            "ADF Statistic: -30.9963750935614\n",
            "p-value: 0.0\n",
            "\n",
            "---------------------\n",
            "\n",
            "Close\n",
            "ADF Statistic: -31.12395376252256\n",
            "p-value: 0.0\n",
            "Adj Close\n",
            "ADF Statistic: -31.12395376252256\n",
            "p-value: 0.0\n",
            "\n",
            "---------------------\n",
            "\n",
            "Volume\n",
            "ADF Statistic: -13.368271371338986\n",
            "p-value: 5.259970441249103e-25\n"
          ]
        }
      ],
      "source": [
        "ad_fuller_result_1 = adfuller(df_multi['Open'].diff()[1:])\n",
        "\n",
        "print('Open')\n",
        "print(f'ADF Statistic: {ad_fuller_result_1[0]}')\n",
        "print(f'p-value: {ad_fuller_result_1[1]}')\n",
        "\n",
        "print('\\n---------------------\\n')\n",
        "\n",
        "ad_fuller_result_2 = adfuller(df_multi['High'].diff()[1:])\n",
        "\n",
        "print('High')\n",
        "print(f'ADF Statistic: {ad_fuller_result_2[0]}')\n",
        "print(f'p-value: {ad_fuller_result_2[1]}')\n",
        "\n",
        "ad_fuller_result_3= adfuller(df_multi['Low'].diff()[1:])\n",
        "\n",
        "print('Low')\n",
        "print(f'ADF Statistic: {ad_fuller_result_3[0]}')\n",
        "print(f'p-value: {ad_fuller_result_3[1]}')\n",
        "\n",
        "print('\\n---------------------\\n')\n",
        "\n",
        "ad_fuller_result_4 = adfuller(df_multi['Close'].diff()[1:])\n",
        "\n",
        "print('Close')\n",
        "print(f'ADF Statistic: {ad_fuller_result_4[0]}')\n",
        "print(f'p-value: {ad_fuller_result_4[1]}')\n",
        "\n",
        "ad_fuller_result_5 = adfuller(df_multi['Adj Close'].diff()[1:])\n",
        "\n",
        "print('Adj Close')\n",
        "print(f'ADF Statistic: {ad_fuller_result_5[0]}')\n",
        "print(f'p-value: {ad_fuller_result_5[1]}')\n",
        "\n",
        "print('\\n---------------------\\n')\n",
        "\n",
        "ad_fuller_result_6 = adfuller(df_multi['Volume'].diff()[1:])\n",
        "\n",
        "print('Volume')\n",
        "print(f'ADF Statistic: {ad_fuller_result_6[0]}')\n",
        "print(f'p-value: {ad_fuller_result_6[1]}')"
      ]
    },
    {
      "cell_type": "markdown",
      "metadata": {
        "id": "T7TADMEsyChZ"
      },
      "source": [
        "**Since p-value becomes less than 0.5 now the times series are stationary**"
      ]
    },
    {
      "cell_type": "markdown",
      "metadata": {
        "id": "aTWSb2ddyKDV"
      },
      "source": [
        "Now we need to check if the times serieses are correlated. To Check that we are going to perform Granger causalatiy test"
      ]
    },
    {
      "cell_type": "code",
      "execution_count": 57,
      "metadata": {
        "colab": {
          "base_uri": "https://localhost:8080/"
        },
        "id": "Ow1yxv08y_XN",
        "outputId": "6e865002-1221-464d-9206-1318cd0db7ab"
      },
      "outputs": [
        {
          "output_type": "execute_result",
          "data": {
            "text/plain": [
              "Index(['Date', 'Open', 'High', 'Low', 'Close', 'Adj Close', 'Volume'], dtype='object')"
            ]
          },
          "metadata": {},
          "execution_count": 57
        }
      ],
      "source": [
        "df_multi.columns"
      ]
    },
    {
      "cell_type": "code",
      "execution_count": 58,
      "metadata": {
        "colab": {
          "base_uri": "https://localhost:8080/"
        },
        "id": "S7UQwgPTxQIK",
        "outputId": "2a552ce1-0f2f-41e7-afb6-081c8d06f06d"
      },
      "outputs": [
        {
          "output_type": "stream",
          "name": "stdout",
          "text": [
            "Open causes Adj Close?\n",
            "\n",
            "------------------\n",
            "\n",
            "Granger Causality\n",
            "number of lags (no zero) 1\n",
            "ssr based F test:         F=2.4737  , p=0.1160  , df_denom=1714, df_num=1\n",
            "ssr based chi2 test:   chi2=2.4780  , p=0.1154  , df=1\n",
            "likelihood ratio test: chi2=2.4762  , p=0.1156  , df=1\n",
            "parameter F test:         F=2.4737  , p=0.1160  , df_denom=1714, df_num=1\n",
            "\n",
            "Granger Causality\n",
            "number of lags (no zero) 2\n",
            "ssr based F test:         F=0.2330  , p=0.7922  , df_denom=1711, df_num=2\n",
            "ssr based chi2 test:   chi2=0.4673  , p=0.7917  , df=2\n",
            "likelihood ratio test: chi2=0.4672  , p=0.7917  , df=2\n",
            "parameter F test:         F=0.2330  , p=0.7922  , df_denom=1711, df_num=2\n",
            "\n",
            "Granger Causality\n",
            "number of lags (no zero) 3\n",
            "ssr based F test:         F=0.2277  , p=0.8772  , df_denom=1708, df_num=3\n",
            "ssr based chi2 test:   chi2=0.6859  , p=0.8765  , df=3\n",
            "likelihood ratio test: chi2=0.6857  , p=0.8766  , df=3\n",
            "parameter F test:         F=0.2277  , p=0.8772  , df_denom=1708, df_num=3\n",
            "\n",
            "Granger Causality\n",
            "number of lags (no zero) 4\n",
            "ssr based F test:         F=0.3670  , p=0.8322  , df_denom=1705, df_num=4\n",
            "ssr based chi2 test:   chi2=1.4758  , p=0.8309  , df=4\n",
            "likelihood ratio test: chi2=1.4752  , p=0.8310  , df=4\n",
            "parameter F test:         F=0.3670  , p=0.8322  , df_denom=1705, df_num=4\n",
            "\n",
            "Granger Causality\n",
            "number of lags (no zero) 5\n",
            "ssr based F test:         F=0.4254  , p=0.8312  , df_denom=1702, df_num=5\n",
            "ssr based chi2 test:   chi2=2.1409  , p=0.8293  , df=5\n",
            "likelihood ratio test: chi2=2.1396  , p=0.8295  , df=5\n",
            "parameter F test:         F=0.4254  , p=0.8312  , df_denom=1702, df_num=5\n",
            "\\High causes Adj Close?\n",
            "\n",
            "------------------\n",
            "\n",
            "Granger Causality\n",
            "number of lags (no zero) 1\n",
            "ssr based F test:         F=2.5178  , p=0.1128  , df_denom=1714, df_num=1\n",
            "ssr based chi2 test:   chi2=2.5222  , p=0.1123  , df=1\n",
            "likelihood ratio test: chi2=2.5203  , p=0.1124  , df=1\n",
            "parameter F test:         F=2.5178  , p=0.1128  , df_denom=1714, df_num=1\n",
            "\n",
            "Granger Causality\n",
            "number of lags (no zero) 2\n",
            "ssr based F test:         F=1.1028  , p=0.3322  , df_denom=1711, df_num=2\n",
            "ssr based chi2 test:   chi2=2.2120  , p=0.3309  , df=2\n",
            "likelihood ratio test: chi2=2.2105  , p=0.3311  , df=2\n",
            "parameter F test:         F=1.1028  , p=0.3322  , df_denom=1711, df_num=2\n",
            "\n",
            "Granger Causality\n",
            "number of lags (no zero) 3\n",
            "ssr based F test:         F=0.9356  , p=0.4226  , df_denom=1708, df_num=3\n",
            "ssr based chi2 test:   chi2=2.8183  , p=0.4205  , df=3\n",
            "likelihood ratio test: chi2=2.8159  , p=0.4209  , df=3\n",
            "parameter F test:         F=0.9356  , p=0.4226  , df_denom=1708, df_num=3\n",
            "\n",
            "Granger Causality\n",
            "number of lags (no zero) 4\n",
            "ssr based F test:         F=0.9529  , p=0.4324  , df_denom=1705, df_num=4\n",
            "ssr based chi2 test:   chi2=3.8316  , p=0.4293  , df=4\n",
            "likelihood ratio test: chi2=3.8273  , p=0.4299  , df=4\n",
            "parameter F test:         F=0.9529  , p=0.4324  , df_denom=1705, df_num=4\n",
            "\n",
            "Granger Causality\n",
            "number of lags (no zero) 5\n",
            "ssr based F test:         F=1.0853  , p=0.3665  , df_denom=1702, df_num=5\n",
            "ssr based chi2 test:   chi2=5.4615  , p=0.3622  , df=5\n",
            "likelihood ratio test: chi2=5.4528  , p=0.3631  , df=5\n",
            "parameter F test:         F=1.0853  , p=0.3665  , df_denom=1702, df_num=5\n",
            "Low causes Adj Close?\n",
            "\n",
            "------------------\n",
            "\n",
            "Granger Causality\n",
            "number of lags (no zero) 1\n",
            "ssr based F test:         F=0.0440  , p=0.8338  , df_denom=1714, df_num=1\n",
            "ssr based chi2 test:   chi2=0.0441  , p=0.8336  , df=1\n",
            "likelihood ratio test: chi2=0.0441  , p=0.8337  , df=1\n",
            "parameter F test:         F=0.0440  , p=0.8338  , df_denom=1714, df_num=1\n",
            "\n",
            "Granger Causality\n",
            "number of lags (no zero) 2\n",
            "ssr based F test:         F=0.8490  , p=0.4280  , df_denom=1711, df_num=2\n",
            "ssr based chi2 test:   chi2=1.7029  , p=0.4268  , df=2\n",
            "likelihood ratio test: chi2=1.7021  , p=0.4270  , df=2\n",
            "parameter F test:         F=0.8490  , p=0.4280  , df_denom=1711, df_num=2\n",
            "\n",
            "Granger Causality\n",
            "number of lags (no zero) 3\n",
            "ssr based F test:         F=1.1338  , p=0.3341  , df_denom=1708, df_num=3\n",
            "ssr based chi2 test:   chi2=3.4154  , p=0.3319  , df=3\n",
            "likelihood ratio test: chi2=3.4120  , p=0.3324  , df=3\n",
            "parameter F test:         F=1.1338  , p=0.3341  , df_denom=1708, df_num=3\n",
            "\n",
            "Granger Causality\n",
            "number of lags (no zero) 4\n",
            "ssr based F test:         F=0.8827  , p=0.4734  , df_denom=1705, df_num=4\n",
            "ssr based chi2 test:   chi2=3.5496  , p=0.4704  , df=4\n",
            "likelihood ratio test: chi2=3.5459  , p=0.4709  , df=4\n",
            "parameter F test:         F=0.8827  , p=0.4734  , df_denom=1705, df_num=4\n",
            "\n",
            "Granger Causality\n",
            "number of lags (no zero) 5\n",
            "ssr based F test:         F=0.7400  , p=0.5935  , df_denom=1702, df_num=5\n",
            "ssr based chi2 test:   chi2=3.7240  , p=0.5898  , df=5\n",
            "likelihood ratio test: chi2=3.7200  , p=0.5904  , df=5\n",
            "parameter F test:         F=0.7400  , p=0.5935  , df_denom=1702, df_num=5\n",
            "\n",
            " Close causes Adj Close?\n",
            "\n",
            "------------------\n",
            "\n",
            "Granger Causality\n",
            "number of lags (no zero) 1\n",
            "ssr based F test:         F=0.0000  , p=1.0000  , df_denom=1715, df_num=1\n",
            "ssr based chi2 test:   chi2=0.0000  , p=1.0000  , df=1\n",
            "likelihood ratio test: chi2=-0.0000 , p=1.0000  , df=1\n",
            "parameter F test:         F=333456.5395, p=0.0000  , df_denom=1715, df_num=1\n",
            "\n",
            "Granger Causality\n",
            "number of lags (no zero) 2\n",
            "ssr based F test:         F=-0.0000 , p=1.0000  , df_denom=1713, df_num=2\n",
            "ssr based chi2 test:   chi2=-0.0000 , p=1.0000  , df=2\n",
            "likelihood ratio test: chi2=-0.0000 , p=1.0000  , df=2\n",
            "parameter F test:         F=167431.9678, p=0.0000  , df_denom=1713, df_num=2\n",
            "\n",
            "Granger Causality\n",
            "number of lags (no zero) 3\n",
            "ssr based F test:         F=0.0000  , p=1.0000  , df_denom=1711, df_num=3\n",
            "ssr based chi2 test:   chi2=0.0000  , p=1.0000  , df=3\n",
            "likelihood ratio test: chi2=0.0000  , p=1.0000  , df=3\n",
            "parameter F test:         F=111437.3049, p=0.0000  , df_denom=1711, df_num=3\n",
            "\n",
            "Granger Causality\n",
            "number of lags (no zero) 4\n",
            "ssr based F test:         F=-0.0000 , p=1.0000  , df_denom=1709, df_num=4\n",
            "ssr based chi2 test:   chi2=-0.0000 , p=1.0000  , df=4\n",
            "likelihood ratio test: chi2=-0.0000 , p=1.0000  , df=4\n",
            "parameter F test:         F=83508.2882, p=0.0000  , df_denom=1709, df_num=4\n",
            "\n",
            "Granger Causality\n",
            "number of lags (no zero) 5\n",
            "ssr based F test:         F=0.0000  , p=1.0000  , df_denom=1707, df_num=5\n",
            "ssr based chi2 test:   chi2=0.0000  , p=1.0000  , df=5\n",
            "likelihood ratio test: chi2=0.0000  , p=1.0000  , df=5\n",
            "parameter F test:         F=66618.6669, p=0.0000  , df_denom=1707, df_num=5\n",
            "Adj Close causes Adj Close?\n",
            "\n",
            "------------------\n",
            "\n",
            "Granger Causality\n",
            "number of lags (no zero) 1\n",
            "ssr based F test:         F=0.0000  , p=1.0000  , df_denom=1715, df_num=1\n",
            "ssr based chi2 test:   chi2=0.0000  , p=1.0000  , df=1\n",
            "likelihood ratio test: chi2=-0.0000 , p=1.0000  , df=1\n",
            "parameter F test:         F=333456.5395, p=0.0000  , df_denom=1715, df_num=1\n",
            "\n",
            "Granger Causality\n",
            "number of lags (no zero) 2\n",
            "ssr based F test:         F=-0.0000 , p=1.0000  , df_denom=1713, df_num=2\n",
            "ssr based chi2 test:   chi2=-0.0000 , p=1.0000  , df=2\n",
            "likelihood ratio test: chi2=-0.0000 , p=1.0000  , df=2\n",
            "parameter F test:         F=167431.9678, p=0.0000  , df_denom=1713, df_num=2\n",
            "\n",
            "Granger Causality\n",
            "number of lags (no zero) 3\n",
            "ssr based F test:         F=0.0000  , p=1.0000  , df_denom=1711, df_num=3\n",
            "ssr based chi2 test:   chi2=0.0000  , p=1.0000  , df=3\n",
            "likelihood ratio test: chi2=0.0000  , p=1.0000  , df=3\n",
            "parameter F test:         F=111437.3049, p=0.0000  , df_denom=1711, df_num=3\n",
            "\n",
            "Granger Causality\n",
            "number of lags (no zero) 4\n",
            "ssr based F test:         F=-0.0000 , p=1.0000  , df_denom=1709, df_num=4\n",
            "ssr based chi2 test:   chi2=-0.0000 , p=1.0000  , df=4\n",
            "likelihood ratio test: chi2=-0.0000 , p=1.0000  , df=4\n",
            "parameter F test:         F=83508.2882, p=0.0000  , df_denom=1709, df_num=4\n",
            "\n",
            "Granger Causality\n",
            "number of lags (no zero) 5\n",
            "ssr based F test:         F=0.0000  , p=1.0000  , df_denom=1707, df_num=5\n",
            "ssr based chi2 test:   chi2=0.0000  , p=1.0000  , df=5\n",
            "likelihood ratio test: chi2=0.0000  , p=1.0000  , df=5\n",
            "parameter F test:         F=66618.6669, p=0.0000  , df_denom=1707, df_num=5\n",
            "\n",
            " Volume causes Adj Close?\n",
            "\n",
            "------------------\n",
            "\n",
            "Granger Causality\n",
            "number of lags (no zero) 1\n",
            "ssr based F test:         F=4.1088  , p=0.0428  , df_denom=1714, df_num=1\n",
            "ssr based chi2 test:   chi2=4.1160  , p=0.0425  , df=1\n",
            "likelihood ratio test: chi2=4.1111  , p=0.0426  , df=1\n",
            "parameter F test:         F=4.1088  , p=0.0428  , df_denom=1714, df_num=1\n",
            "\n",
            "Granger Causality\n",
            "number of lags (no zero) 2\n",
            "ssr based F test:         F=4.4862  , p=0.0114  , df_denom=1711, df_num=2\n",
            "ssr based chi2 test:   chi2=8.9986  , p=0.0111  , df=2\n",
            "likelihood ratio test: chi2=8.9751  , p=0.0112  , df=2\n",
            "parameter F test:         F=4.4862  , p=0.0114  , df_denom=1711, df_num=2\n",
            "\n",
            "Granger Causality\n",
            "number of lags (no zero) 3\n",
            "ssr based F test:         F=2.7036  , p=0.0441  , df_denom=1708, df_num=3\n",
            "ssr based chi2 test:   chi2=8.1439  , p=0.0431  , df=3\n",
            "likelihood ratio test: chi2=8.1246  , p=0.0435  , df=3\n",
            "parameter F test:         F=2.7036  , p=0.0441  , df_denom=1708, df_num=3\n",
            "\n",
            "Granger Causality\n",
            "number of lags (no zero) 4\n",
            "ssr based F test:         F=1.9535  , p=0.0992  , df_denom=1705, df_num=4\n",
            "ssr based chi2 test:   chi2=7.8551  , p=0.0970  , df=4\n",
            "likelihood ratio test: chi2=7.8372  , p=0.0977  , df=4\n",
            "parameter F test:         F=1.9535  , p=0.0992  , df_denom=1705, df_num=4\n",
            "\n",
            "Granger Causality\n",
            "number of lags (no zero) 5\n",
            "ssr based F test:         F=2.5407  , p=0.0267  , df_denom=1702, df_num=5\n",
            "ssr based chi2 test:   chi2=12.7856 , p=0.0255  , df=5\n",
            "likelihood ratio test: chi2=12.7381 , p=0.0260  , df=5\n",
            "parameter F test:         F=2.5407  , p=0.0267  , df_denom=1702, df_num=5\n"
          ]
        }
      ],
      "source": [
        "print('Open causes Adj Close?\\n')\n",
        "print('------------------')\n",
        "granger_1 = grangercausalitytests(df_multi[['Adj Close', 'Open']], 5)# does second column casuses first column\n",
        "\n",
        "print('\\High causes Adj Close?\\n')\n",
        "print('------------------')\n",
        "granger_2 = grangercausalitytests(df_multi[['Adj Close', 'High']], 5) # 4 signifies we are checking for 4 lags\n",
        "\n",
        "print('Low causes Adj Close?\\n')\n",
        "print('------------------')\n",
        "granger_3 = grangercausalitytests(df_multi[['Adj Close', 'Low']], 5)\n",
        "\n",
        "print('\\n Close causes Adj Close?\\n')\n",
        "print('------------------')\n",
        "granger_4 = grangercausalitytests(df_multi[['Adj Close', 'Close']], 5)\n",
        "\n",
        "print('Adj Close causes Adj Close?\\n')\n",
        "print('------------------')\n",
        "granger_5 = grangercausalitytests(df_multi[['Adj Close', 'Adj Close']], 5)\n",
        "\n",
        "print('\\n Volume causes Adj Close?\\n')\n",
        "print('------------------')\n",
        "granger_6 = grangercausalitytests(df_multi[['Adj Close', 'Volume']], 5)"
      ]
    },
    {
      "cell_type": "code",
      "execution_count": 59,
      "metadata": {
        "colab": {
          "base_uri": "https://localhost:8080/"
        },
        "id": "-PG5ugbhzhOt",
        "outputId": "bceab211-4f5e-43b1-9405-e06664870937"
      },
      "outputs": [
        {
          "output_type": "stream",
          "name": "stdout",
          "text": [
            "Adj Close causes Open?\n",
            "\n",
            "------------------\n",
            "\n",
            "Granger Causality\n",
            "number of lags (no zero) 1\n",
            "ssr based F test:         F=1203.8041, p=0.0000  , df_denom=1714, df_num=1\n",
            "ssr based chi2 test:   chi2=1205.9111, p=0.0000  , df=1\n",
            "likelihood ratio test: chi2=913.4466, p=0.0000  , df=1\n",
            "parameter F test:         F=1203.8041, p=0.0000  , df_denom=1714, df_num=1\n",
            "\n",
            "Granger Causality\n",
            "number of lags (no zero) 2\n",
            "ssr based F test:         F=612.8127, p=0.0000  , df_denom=1711, df_num=2\n",
            "ssr based chi2 test:   chi2=1229.2069, p=0.0000  , df=2\n",
            "likelihood ratio test: chi2=926.9542, p=0.0000  , df=2\n",
            "parameter F test:         F=612.8127, p=0.0000  , df_denom=1711, df_num=2\n",
            "\n",
            "Granger Causality\n",
            "number of lags (no zero) 3\n",
            "ssr based F test:         F=407.3264, p=0.0000  , df_denom=1708, df_num=3\n",
            "ssr based chi2 test:   chi2=1226.9874, p=0.0000  , df=3\n",
            "likelihood ratio test: chi2=925.5379, p=0.0000  , df=3\n",
            "parameter F test:         F=407.3264, p=0.0000  , df_denom=1708, df_num=3\n",
            "\n",
            "Granger Causality\n",
            "number of lags (no zero) 4\n",
            "ssr based F test:         F=307.0527, p=0.0000  , df_denom=1705, df_num=4\n",
            "ssr based chi2 test:   chi2=1234.6940, p=0.0000  , df=4\n",
            "likelihood ratio test: chi2=929.9008, p=0.0000  , df=4\n",
            "parameter F test:         F=307.0527, p=0.0000  , df_denom=1705, df_num=4\n",
            "\n",
            "Granger Causality\n",
            "number of lags (no zero) 5\n",
            "ssr based F test:         F=245.7791, p=0.0000  , df_denom=1702, df_num=5\n",
            "ssr based chi2 test:   chi2=1236.8380, p=0.0000  , df=5\n",
            "likelihood ratio test: chi2=931.0224, p=0.0000  , df=5\n",
            "parameter F test:         F=245.7791, p=0.0000  , df_denom=1702, df_num=5\n",
            "\\Adj Close causes High?\n",
            "\n",
            "------------------\n",
            "\n",
            "Granger Causality\n",
            "number of lags (no zero) 1\n",
            "ssr based F test:         F=292.2073, p=0.0000  , df_denom=1714, df_num=1\n",
            "ssr based chi2 test:   chi2=292.7187, p=0.0000  , df=1\n",
            "likelihood ratio test: chi2=270.2836, p=0.0000  , df=1\n",
            "parameter F test:         F=292.2073, p=0.0000  , df_denom=1714, df_num=1\n",
            "\n",
            "Granger Causality\n",
            "number of lags (no zero) 2\n",
            "ssr based F test:         F=153.5237, p=0.0000  , df_denom=1711, df_num=2\n",
            "ssr based chi2 test:   chi2=307.9447, p=0.0000  , df=2\n",
            "likelihood ratio test: chi2=283.2299, p=0.0000  , df=2\n",
            "parameter F test:         F=153.5237, p=0.0000  , df_denom=1711, df_num=2\n",
            "\n",
            "Granger Causality\n",
            "number of lags (no zero) 3\n",
            "ssr based F test:         F=103.8213, p=0.0000  , df_denom=1708, df_num=3\n",
            "ssr based chi2 test:   chi2=312.7403, p=0.0000  , df=3\n",
            "likelihood ratio test: chi2=287.2779, p=0.0000  , df=3\n",
            "parameter F test:         F=103.8213, p=0.0000  , df_denom=1708, df_num=3\n",
            "\n",
            "Granger Causality\n",
            "number of lags (no zero) 4\n",
            "ssr based F test:         F=78.5420 , p=0.0000  , df_denom=1705, df_num=4\n",
            "ssr based chi2 test:   chi2=315.8263, p=0.0000  , df=4\n",
            "likelihood ratio test: chi2=289.8724, p=0.0000  , df=4\n",
            "parameter F test:         F=78.5420 , p=0.0000  , df_denom=1705, df_num=4\n",
            "\n",
            "Granger Causality\n",
            "number of lags (no zero) 5\n",
            "ssr based F test:         F=62.5974 , p=0.0000  , df_denom=1702, df_num=5\n",
            "ssr based chi2 test:   chi2=315.0097, p=0.0000  , df=5\n",
            "likelihood ratio test: chi2=289.1692, p=0.0000  , df=5\n",
            "parameter F test:         F=62.5974 , p=0.0000  , df_denom=1702, df_num=5\n",
            "Adj Close causes Low?\n",
            "\n",
            "------------------\n",
            "\n",
            "Granger Causality\n",
            "number of lags (no zero) 1\n",
            "ssr based F test:         F=348.8869, p=0.0000  , df_denom=1714, df_num=1\n",
            "ssr based chi2 test:   chi2=349.4976, p=0.0000  , df=1\n",
            "likelihood ratio test: chi2=318.1199, p=0.0000  , df=1\n",
            "parameter F test:         F=348.8869, p=0.0000  , df_denom=1714, df_num=1\n",
            "\n",
            "Granger Causality\n",
            "number of lags (no zero) 2\n",
            "ssr based F test:         F=176.3255, p=0.0000  , df_denom=1711, df_num=2\n",
            "ssr based chi2 test:   chi2=353.6815, p=0.0000  , df=2\n",
            "likelihood ratio test: chi2=321.5763, p=0.0000  , df=2\n",
            "parameter F test:         F=176.3255, p=0.0000  , df_denom=1711, df_num=2\n",
            "\n",
            "Granger Causality\n",
            "number of lags (no zero) 3\n",
            "ssr based F test:         F=116.5859, p=0.0000  , df_denom=1708, df_num=3\n",
            "ssr based chi2 test:   chi2=351.1913, p=0.0000  , df=3\n",
            "likelihood ratio test: chi2=319.4940, p=0.0000  , df=3\n",
            "parameter F test:         F=116.5859, p=0.0000  , df_denom=1708, df_num=3\n",
            "\n",
            "Granger Causality\n",
            "number of lags (no zero) 4\n",
            "ssr based F test:         F=89.0446 , p=0.0000  , df_denom=1705, df_num=4\n",
            "ssr based chi2 test:   chi2=358.0586, p=0.0000  , df=4\n",
            "likelihood ratio test: chi2=325.1677, p=0.0000  , df=4\n",
            "parameter F test:         F=89.0446 , p=0.0000  , df_denom=1705, df_num=4\n",
            "\n",
            "Granger Causality\n",
            "number of lags (no zero) 5\n",
            "ssr based F test:         F=72.1544 , p=0.0000  , df_denom=1702, df_num=5\n",
            "ssr based chi2 test:   chi2=363.1035, p=0.0000  , df=5\n",
            "likelihood ratio test: chi2=329.3184, p=0.0000  , df=5\n",
            "parameter F test:         F=72.1544 , p=0.0000  , df_denom=1702, df_num=5\n",
            "\n",
            " Adj Close causes Close?\n",
            "\n",
            "------------------\n",
            "\n",
            "Granger Causality\n",
            "number of lags (no zero) 1\n",
            "ssr based F test:         F=0.0000  , p=1.0000  , df_denom=1715, df_num=1\n",
            "ssr based chi2 test:   chi2=0.0000  , p=1.0000  , df=1\n",
            "likelihood ratio test: chi2=-0.0000 , p=1.0000  , df=1\n",
            "parameter F test:         F=333456.5395, p=0.0000  , df_denom=1715, df_num=1\n",
            "\n",
            "Granger Causality\n",
            "number of lags (no zero) 2\n",
            "ssr based F test:         F=-0.0000 , p=1.0000  , df_denom=1713, df_num=2\n",
            "ssr based chi2 test:   chi2=-0.0000 , p=1.0000  , df=2\n",
            "likelihood ratio test: chi2=-0.0000 , p=1.0000  , df=2\n",
            "parameter F test:         F=167431.9678, p=0.0000  , df_denom=1713, df_num=2\n",
            "\n",
            "Granger Causality\n",
            "number of lags (no zero) 3\n",
            "ssr based F test:         F=0.0000  , p=1.0000  , df_denom=1711, df_num=3\n",
            "ssr based chi2 test:   chi2=0.0000  , p=1.0000  , df=3\n",
            "likelihood ratio test: chi2=0.0000  , p=1.0000  , df=3\n",
            "parameter F test:         F=111437.3049, p=0.0000  , df_denom=1711, df_num=3\n",
            "\n",
            "Granger Causality\n",
            "number of lags (no zero) 4\n",
            "ssr based F test:         F=-0.0000 , p=1.0000  , df_denom=1709, df_num=4\n",
            "ssr based chi2 test:   chi2=-0.0000 , p=1.0000  , df=4\n",
            "likelihood ratio test: chi2=-0.0000 , p=1.0000  , df=4\n",
            "parameter F test:         F=83508.2882, p=0.0000  , df_denom=1709, df_num=4\n",
            "\n",
            "Granger Causality\n",
            "number of lags (no zero) 5\n",
            "ssr based F test:         F=0.0000  , p=1.0000  , df_denom=1707, df_num=5\n",
            "ssr based chi2 test:   chi2=0.0000  , p=1.0000  , df=5\n",
            "likelihood ratio test: chi2=0.0000  , p=1.0000  , df=5\n",
            "parameter F test:         F=66618.6669, p=0.0000  , df_denom=1707, df_num=5\n",
            "Adj Close causes Adj Close?\n",
            "\n",
            "------------------\n",
            "\n",
            "Granger Causality\n",
            "number of lags (no zero) 1\n",
            "ssr based F test:         F=0.0000  , p=1.0000  , df_denom=1715, df_num=1\n",
            "ssr based chi2 test:   chi2=0.0000  , p=1.0000  , df=1\n",
            "likelihood ratio test: chi2=-0.0000 , p=1.0000  , df=1\n",
            "parameter F test:         F=333456.5395, p=0.0000  , df_denom=1715, df_num=1\n",
            "\n",
            "Granger Causality\n",
            "number of lags (no zero) 2\n",
            "ssr based F test:         F=-0.0000 , p=1.0000  , df_denom=1713, df_num=2\n",
            "ssr based chi2 test:   chi2=-0.0000 , p=1.0000  , df=2\n",
            "likelihood ratio test: chi2=-0.0000 , p=1.0000  , df=2\n",
            "parameter F test:         F=167431.9678, p=0.0000  , df_denom=1713, df_num=2\n",
            "\n",
            "Granger Causality\n",
            "number of lags (no zero) 3\n",
            "ssr based F test:         F=0.0000  , p=1.0000  , df_denom=1711, df_num=3\n",
            "ssr based chi2 test:   chi2=0.0000  , p=1.0000  , df=3\n",
            "likelihood ratio test: chi2=0.0000  , p=1.0000  , df=3\n",
            "parameter F test:         F=111437.3049, p=0.0000  , df_denom=1711, df_num=3\n",
            "\n",
            "Granger Causality\n",
            "number of lags (no zero) 4\n",
            "ssr based F test:         F=-0.0000 , p=1.0000  , df_denom=1709, df_num=4\n",
            "ssr based chi2 test:   chi2=-0.0000 , p=1.0000  , df=4\n",
            "likelihood ratio test: chi2=-0.0000 , p=1.0000  , df=4\n",
            "parameter F test:         F=83508.2882, p=0.0000  , df_denom=1709, df_num=4\n",
            "\n",
            "Granger Causality\n",
            "number of lags (no zero) 5\n",
            "ssr based F test:         F=0.0000  , p=1.0000  , df_denom=1707, df_num=5\n",
            "ssr based chi2 test:   chi2=0.0000  , p=1.0000  , df=5\n",
            "likelihood ratio test: chi2=0.0000  , p=1.0000  , df=5\n",
            "parameter F test:         F=66618.6669, p=0.0000  , df_denom=1707, df_num=5\n",
            "\n",
            " Adj Close causes Volume?\n",
            "\n",
            "------------------\n",
            "\n",
            "Granger Causality\n",
            "number of lags (no zero) 1\n",
            "ssr based F test:         F=51.8621 , p=0.0000  , df_denom=1714, df_num=1\n",
            "ssr based chi2 test:   chi2=51.9528 , p=0.0000  , df=1\n",
            "likelihood ratio test: chi2=51.1823 , p=0.0000  , df=1\n",
            "parameter F test:         F=51.8621 , p=0.0000  , df_denom=1714, df_num=1\n",
            "\n",
            "Granger Causality\n",
            "number of lags (no zero) 2\n",
            "ssr based F test:         F=22.1935 , p=0.0000  , df_denom=1711, df_num=2\n",
            "ssr based chi2 test:   chi2=44.5168 , p=0.0000  , df=2\n",
            "likelihood ratio test: chi2=43.9492 , p=0.0000  , df=2\n",
            "parameter F test:         F=22.1935 , p=0.0000  , df_denom=1711, df_num=2\n",
            "\n",
            "Granger Causality\n",
            "number of lags (no zero) 3\n",
            "ssr based F test:         F=10.9709 , p=0.0000  , df_denom=1708, df_num=3\n",
            "ssr based chi2 test:   chi2=33.0475 , p=0.0000  , df=3\n",
            "likelihood ratio test: chi2=32.7332 , p=0.0000  , df=3\n",
            "parameter F test:         F=10.9709 , p=0.0000  , df_denom=1708, df_num=3\n",
            "\n",
            "Granger Causality\n",
            "number of lags (no zero) 4\n",
            "ssr based F test:         F=8.1599  , p=0.0000  , df_denom=1705, df_num=4\n",
            "ssr based chi2 test:   chi2=32.8117 , p=0.0000  , df=4\n",
            "likelihood ratio test: chi2=32.5016 , p=0.0000  , df=4\n",
            "parameter F test:         F=8.1599  , p=0.0000  , df_denom=1705, df_num=4\n",
            "\n",
            "Granger Causality\n",
            "number of lags (no zero) 5\n",
            "ssr based F test:         F=5.8581  , p=0.0000  , df_denom=1702, df_num=5\n",
            "ssr based chi2 test:   chi2=29.4797 , p=0.0000  , df=5\n",
            "likelihood ratio test: chi2=29.2289 , p=0.0000  , df=5\n",
            "parameter F test:         F=5.8581  , p=0.0000  , df_denom=1702, df_num=5\n"
          ]
        }
      ],
      "source": [
        "print('Adj Close causes Open?\\n')\n",
        "print('------------------')\n",
        "granger1_1 = grangercausalitytests(df_multi[['Open','Adj Close']], 5)# does second column casuses first column\n",
        "\n",
        "print('\\Adj Close causes High?\\n')\n",
        "print('------------------')\n",
        "granger2_2 = grangercausalitytests(df_multi[['High','Adj Close']], 5) # 4 signifies we are checking for 4 lags\n",
        "\n",
        "print('Adj Close causes Low?\\n')\n",
        "print('------------------')\n",
        "granger3_3 = grangercausalitytests(df_multi[['Low','Adj Close']], 5)\n",
        "\n",
        "print('\\n Adj Close causes Close?\\n')\n",
        "print('------------------')\n",
        "granger4_4 = grangercausalitytests(df_multi[['Close','Adj Close']], 5)\n",
        "\n",
        "print('Adj Close causes Adj Close?\\n')\n",
        "print('------------------')\n",
        "granger5_5 = grangercausalitytests(df_multi[['Adj Close','Adj Close']], 5)\n",
        "\n",
        "print('\\n Adj Close causes Volume?\\n')\n",
        "print('------------------')\n",
        "granger6_6 = grangercausalitytests(df_multi[['Volume','Adj Close']], 5)"
      ]
    },
    {
      "cell_type": "markdown",
      "metadata": {
        "id": "TsO7il1D4hWu"
      },
      "source": [
        "**From the above two code cells results we see that if our target variable is Adj close then only volume affects our target with all the lags till first 3 lags**"
      ]
    },
    {
      "cell_type": "code",
      "execution_count": 60,
      "metadata": {
        "colab": {
          "base_uri": "https://localhost:8080/"
        },
        "id": "sy--nzDo1b5F",
        "outputId": "14ddd1b1-3c9b-45d7-f1b5-28df3f737370"
      },
      "outputs": [
        {
          "output_type": "stream",
          "name": "stdout",
          "text": [
            "(1718, 2)\n"
          ]
        }
      ],
      "source": [
        "df_multi1 = df_multi[['Adj Close','Volume']]\n",
        "print(df_multi1.shape)"
      ]
    },
    {
      "cell_type": "markdown",
      "metadata": {
        "id": "jaA_HdJKGWhP"
      },
      "source": [
        "**Splitting the data**"
      ]
    },
    {
      "cell_type": "code",
      "execution_count": 61,
      "metadata": {
        "id": "mbMqTDbP5Eu2"
      },
      "outputs": [],
      "source": [
        "train_df=df_multi1[:-14]\n",
        "test_df=df_multi1[-14:]"
      ]
    },
    {
      "cell_type": "code",
      "execution_count": 62,
      "metadata": {
        "colab": {
          "base_uri": "https://localhost:8080/"
        },
        "id": "51yiSpeC5iw8",
        "outputId": "1e3d6b33-78d6-4211-d04a-b3f2344f17cf"
      },
      "outputs": [
        {
          "output_type": "stream",
          "name": "stdout",
          "text": [
            "(14, 2)\n"
          ]
        }
      ],
      "source": [
        "print(test_df.shape)"
      ]
    },
    {
      "cell_type": "code",
      "execution_count": 63,
      "metadata": {
        "id": "0gr1TfVQ5n1w"
      },
      "outputs": [],
      "source": [
        "model = VAR(train_df.diff()[1:]) # suppllying the differencing data"
      ]
    },
    {
      "cell_type": "code",
      "execution_count": 64,
      "metadata": {
        "colab": {
          "base_uri": "https://localhost:8080/"
        },
        "id": "6utOSFdz5ynE",
        "outputId": "a6d3ba5c-ec1c-4ba8-a8cc-d0cba149f391"
      },
      "outputs": [
        {
          "output_type": "stream",
          "name": "stdout",
          "text": [
            " VAR Order Selection (* highlights the minimums)  \n",
            "==================================================\n",
            "       AIC         BIC         FPE         HQIC   \n",
            "--------------------------------------------------\n",
            "0        31.39       31.40   4.288e+13       31.39\n",
            "1        31.24       31.26   3.708e+13       31.25\n",
            "2        31.13       31.16   3.301e+13       31.14\n",
            "3        31.11       31.16   3.244e+13       31.13\n",
            "4        31.08       31.14   3.140e+13       31.10\n",
            "5        31.05      31.12*   3.039e+13       31.07\n",
            "6        31.04       31.12   3.016e+13       31.07\n",
            "7        31.02       31.12   2.978e+13      31.06*\n",
            "8        31.02       31.13   2.969e+13       31.06\n",
            "9        31.02       31.14   2.954e+13       31.06\n",
            "10       31.02       31.15   2.957e+13       31.07\n",
            "11       31.02       31.17   2.964e+13       31.08\n",
            "12       31.02       31.18   2.955e+13       31.08\n",
            "13      31.01*       31.18  2.933e+13*       31.07\n",
            "14       31.01       31.20   2.942e+13       31.08\n",
            "15       31.01       31.21   2.934e+13       31.08\n",
            "16       31.01       31.22   2.936e+13       31.09\n",
            "17       31.01       31.24   2.944e+13       31.10\n",
            "18       31.02       31.25   2.950e+13       31.10\n",
            "19       31.01       31.26   2.944e+13       31.11\n",
            "20       31.02       31.28   2.955e+13       31.11\n",
            "--------------------------------------------------\n"
          ]
        }
      ],
      "source": [
        "sorted_order=model.select_order(maxlags=20)\n",
        "print(sorted_order.summary())"
      ]
    },
    {
      "cell_type": "markdown",
      "metadata": {
        "id": "tITjXGrO6SIv"
      },
      "source": [
        "Minimum lag is found at lag number 13,but we dont have enough data to go till lag 13 thats why we have found that lag number 7 has almost similar value to lag number 13 and thats what we will be using to build our model"
      ]
    },
    {
      "cell_type": "code",
      "execution_count": 65,
      "metadata": {
        "colab": {
          "base_uri": "https://localhost:8080/"
        },
        "id": "GAMs8Fkn6Af-",
        "outputId": "fec92292-bd28-4178-9824-afb5df9c89c3"
      },
      "outputs": [
        {
          "output_type": "stream",
          "name": "stdout",
          "text": [
            "                              Statespace Model Results                             \n",
            "===================================================================================\n",
            "Dep. Variable:     ['Adj Close', 'Volume']   No. Observations:                 1704\n",
            "Model:                              VAR(7)   Log Likelihood              -31210.591\n",
            "                               + intercept   AIC                          62487.182\n",
            "Date:                     Sat, 08 Oct 2022   BIC                          62666.726\n",
            "Time:                             14:52:41   HQIC                         62553.642\n",
            "Sample:                                  0                                         \n",
            "                                    - 1704                                         \n",
            "Covariance Type:                       opg                                         \n",
            "===================================================================================\n",
            "Ljung-Box (L1) (Q):             0.03, 0.01   Jarque-Bera (JB):    9058.64, 87966.04\n",
            "Prob(Q):                        0.86, 0.91   Prob(JB):                   0.00, 0.00\n",
            "Heteroskedasticity (H):         0.23, 0.35   Skew:                      -0.73, 3.74\n",
            "Prob(H) (two-sided):            0.00, 0.00   Kurtosis:                 14.20, 37.39\n",
            "                         Results for equation Adj Close                         \n",
            "================================================================================\n",
            "                   coef    std err          z      P>|z|      [0.025      0.975]\n",
            "--------------------------------------------------------------------------------\n",
            "intercept        0.4067      0.000   1969.954      0.000       0.406       0.407\n",
            "L1.Adj Close     0.9382      0.009    101.462      0.000       0.920       0.956\n",
            "L1.Volume     1.983e-09    5.8e-09      0.342      0.732   -9.38e-09    1.33e-08\n",
            "L2.Adj Close     0.0373      0.008      4.916      0.000       0.022       0.052\n",
            "L2.Volume     1.863e-08   5.95e-09      3.132      0.002    6.97e-09    3.03e-08\n",
            "L3.Adj Close     0.0368      0.007      5.353      0.000       0.023       0.050\n",
            "L3.Volume     4.361e-10   7.94e-09      0.055      0.956   -1.51e-08     1.6e-08\n",
            "L4.Adj Close    -0.0133      0.010     -1.278      0.201      -0.034       0.007\n",
            "L4.Volume     3.954e-09   7.16e-09      0.553      0.581   -1.01e-08     1.8e-08\n",
            "L5.Adj Close     0.0248      0.009      2.899      0.004       0.008       0.042\n",
            "L5.Volume     -1.67e-08   8.62e-09     -1.936      0.053   -3.36e-08    2.03e-10\n",
            "L6.Adj Close    -0.0654      0.005    -12.946      0.000      -0.075      -0.055\n",
            "L6.Volume     2.183e-09   6.78e-09      0.322      0.747   -1.11e-08    1.55e-08\n",
            "L7.Adj Close     0.0372      0.012      3.019      0.003       0.013       0.061\n",
            "L7.Volume     7.098e-09   5.87e-09      1.208      0.227   -4.41e-09    1.86e-08\n",
            "                          Results for equation Volume                           \n",
            "================================================================================\n",
            "                   coef    std err          z      P>|z|      [0.025      0.975]\n",
            "--------------------------------------------------------------------------------\n",
            "intercept    -3.725e+05   7.96e-06  -4.68e+10      0.000   -3.72e+05   -3.72e+05\n",
            "L1.Adj Close -5.188e+04   4.79e-08  -1.08e+12      0.000   -5.19e+04   -5.19e+04\n",
            "L1.Volume        0.3258      0.013     24.896      0.000       0.300       0.351\n",
            "L2.Adj Close  1.246e+05   4.66e-08   2.67e+12      0.000    1.25e+05    1.25e+05\n",
            "L2.Volume        0.0070      0.016      0.443      0.658      -0.024       0.038\n",
            "L3.Adj Close  -1.48e+05   4.82e-08  -3.07e+12      0.000   -1.48e+05   -1.48e+05\n",
            "L3.Volume        0.1288      0.012     11.195      0.000       0.106       0.151\n",
            "L4.Adj Close  1.807e+05   4.73e-08   3.82e+12      0.000    1.81e+05    1.81e+05\n",
            "L4.Volume       -0.0016      0.008     -0.194      0.846      -0.018       0.015\n",
            "L5.Adj Close  9.707e+04   4.74e-08   2.05e+12      0.000    9.71e+04    9.71e+04\n",
            "L5.Volume        0.0548      0.005     10.087      0.000       0.044       0.066\n",
            "L6.Adj Close   6.28e+04   4.68e-08   1.34e+12      0.000    6.28e+04    6.28e+04\n",
            "L6.Volume        0.0959      0.011      8.661      0.000       0.074       0.118\n",
            "L7.Adj Close -2.362e+05   4.69e-08  -5.04e+12      0.000   -2.36e+05   -2.36e+05\n",
            "L7.Volume       -0.0056      0.009     -0.603      0.547      -0.024       0.013\n",
            "                                   Error covariance matrix                                   \n",
            "=============================================================================================\n",
            "                                coef    std err          z      P>|z|      [0.025      0.975]\n",
            "---------------------------------------------------------------------------------------------\n",
            "sqrt.var.Adj Close            1.2516      0.015     85.435      0.000       1.223       1.280\n",
            "sqrt.cov.Adj Close.Volume -7.501e+05   2.66e-09  -2.81e+14      0.000    -7.5e+05    -7.5e+05\n",
            "sqrt.var.Volume             4.23e+06   4.47e-09   9.45e+14      0.000    4.23e+06    4.23e+06\n",
            "=============================================================================================\n",
            "\n",
            "Warnings:\n",
            "[1] Covariance matrix calculated using the outer product of gradients (complex-step).\n",
            "[2] Covariance matrix is singular or near-singular, with condition number 2.91e+29. Standard errors may be unstable.\n"
          ]
        }
      ],
      "source": [
        "var_model = VARMAX(train_df, order=(7,0),enforce_stationarity= True) # since we are not going to use moving avereage part so in order second part is 0\n",
        "fitted_model = var_model.fit(disp=False)\n",
        "print(fitted_model.summary())"
      ]
    },
    {
      "cell_type": "code",
      "execution_count": 66,
      "metadata": {
        "id": "p8uGQJ7P687f"
      },
      "outputs": [],
      "source": [
        "n_forecast = 14\n",
        "predict = fitted_model.get_prediction(start=len(train_df),end=len(train_df) + n_forecast-1)#start=\"1989-07-01\",end='1999-01-01')\n",
        "\n",
        "predictions=predict.predicted_mean"
      ]
    },
    {
      "cell_type": "code",
      "execution_count": 67,
      "metadata": {
        "colab": {
          "base_uri": "https://localhost:8080/"
        },
        "id": "lvEszKwx89Jh",
        "outputId": "042d6885-8358-4b48-a46b-7b9cdcbb2869"
      },
      "outputs": [
        {
          "output_type": "stream",
          "name": "stdout",
          "text": [
            "      Adj Close pred   Volume pred\n",
            "1704      117.777392  8.399760e+06\n",
            "1705      117.842248  8.545058e+06\n",
            "1706      117.839029  8.369886e+06\n",
            "1707      117.865999  8.468286e+06\n",
            "1708      117.874257  8.510646e+06\n",
            "1709      117.947328  8.066900e+06\n",
            "1710      117.978466  8.085170e+06\n",
            "1711      118.007069  8.087957e+06\n",
            "1712      118.040262  7.999747e+06\n",
            "1713      118.067365  8.000527e+06\n",
            "1714      118.103577  7.985033e+06\n",
            "1715      118.134689  7.934274e+06\n",
            "1716      118.163282  7.914599e+06\n",
            "1717      118.192972  7.900759e+06\n"
          ]
        }
      ],
      "source": [
        "#index_future = pd.date_range(start ='2018-12-01',end='2019-01-14')\n",
        "predictions.columns=['Adj Close pred','Volume pred']\n",
        "#predictions.index =index_future\n",
        "print(predictions)"
      ]
    },
    {
      "cell_type": "code",
      "execution_count": 68,
      "metadata": {
        "colab": {
          "base_uri": "https://localhost:8080/",
          "height": 294
        },
        "id": "it24j4vh-mjC",
        "outputId": "2e750419-de07-4daf-fa9f-7c55cc0762a5"
      },
      "outputs": [
        {
          "output_type": "execute_result",
          "data": {
            "text/plain": [
              "<matplotlib.axes._subplots.AxesSubplot at 0x7f99dafb1810>"
            ]
          },
          "metadata": {},
          "execution_count": 68
        },
        {
          "output_type": "display_data",
          "data": {
            "text/plain": [
              "<Figure size 432x288 with 1 Axes>"
            ],
            "image/png": "[encoded data removed]"
          },
          "metadata": {
            "needs_background": "light"
          }
        }
      ],
      "source": [
        "test_vs_pred=pd.concat([test_df,predictions],axis=1)\n",
        "test_vs_pred.plot(figsize=(6,4))"
      ]
    },
    {
      "cell_type": "code",
      "execution_count": 69,
      "metadata": {
        "colab": {
          "base_uri": "https://localhost:8080/"
        },
        "id": "qBTHAcB1-084",
        "outputId": "de1f70df-f2c2-4dc5-faa4-95c719b049ba"
      },
      "outputs": [
        {
          "output_type": "stream",
          "name": "stdout",
          "text": [
            "Mean value of Adj Close is : 118.84928585714286. Root Mean Squared Error is :1.536011906221054\n",
            "Mean value of Volume is : 9675307.142857144. Root Mean Squared Error is :4454965.373432027\n"
          ]
        }
      ],
      "source": [
        "from sklearn.metrics import mean_squared_error\n",
        "import math \n",
        "from statistics import mean\n",
        "\n",
        "rmse_adj_cls=math.sqrt(mean_squared_error(predictions['Adj Close pred'],test_df['Adj Close']))\n",
        "print('Mean value of Adj Close is : {}. Root Mean Squared Error is :{}'.format(mean(test_df['Adj Close']),rmse_adj_cls))\n",
        "\n",
        "rmse_vol=math.sqrt(mean_squared_error(predictions['Volume pred'],test_df['Volume']))\n",
        "print('Mean value of Volume is : {}. Root Mean Squared Error is :{}'.format(mean(test_df['Volume']),rmse_vol))"
      ]
    },
    {
      "cell_type": "code",
      "execution_count": 70,
      "metadata": {
        "colab": {
          "base_uri": "https://localhost:8080/"
        },
        "id": "tt89rmzP_dqJ",
        "outputId": "d9c107ff-9929-4830-a92e-9130516a59c0"
      },
      "outputs": [
        {
          "output_type": "stream",
          "name": "stdout",
          "text": [
            "Looking in indexes: https://pypi.org/simple, https://us-python.pkg.dev/colab-wheels/public/simple/\n",
            "Collecting pipreqs\n",
            "  Downloading pipreqs-0.4.11-py2.py3-none-any.whl (32 kB)\n",
            "Collecting yarg\n",
            "  Downloading yarg-0.1.9-py2.py3-none-any.whl (19 kB)\n",
            "Collecting docopt\n",
            "  Downloading docopt-0.6.2.tar.gz (25 kB)\n",
            "Requirement already satisfied: requests in /usr/local/lib/python3.7/dist-packages (from yarg->pipreqs) (2.23.0)\n",
            "Requirement already satisfied: chardet<4,>=3.0.2 in /usr/local/lib/python3.7/dist-packages (from requests->yarg->pipreqs) (3.0.4)\n",
            "Requirement already satisfied: idna<3,>=2.5 in /usr/local/lib/python3.7/dist-packages (from requests->yarg->pipreqs) (2.10)\n",
            "Requirement already satisfied: urllib3!=1.25.0,!=1.25.1,<1.26,>=1.21.1 in /usr/local/lib/python3.7/dist-packages (from requests->yarg->pipreqs) (1.24.3)\n",
            "Requirement already satisfied: certifi>=2017.4.17 in /usr/local/lib/python3.7/dist-packages (from requests->yarg->pipreqs) (2022.9.24)\n",
            "Building wheels for collected packages: docopt\n",
            "  Building wheel for docopt (setup.py) ... \u001b[?25l\u001b[?25hdone\n",
            "  Created wheel for docopt: filename=docopt-0.6.2-py2.py3-none-any.whl size=13723 sha256=2e0e4381e69b4f1aa55c96e5acec4f84acea989d236a60247cda106ee87d0388\n",
            "  Stored in directory: /root/.cache/pip/wheels/72/b0/3f/1d95f96ff986c7dfffe46ce2be4062f38ebd04b506c77c81b9\n",
            "Successfully built docopt\n",
            "Installing collected packages: yarg, docopt, pipreqs\n",
            "Successfully installed docopt-0.6.2 pipreqs-0.4.11 yarg-0.1.9\n"
          ]
        }
      ],
      "source": [
        "!pip install pipreqs"
      ]
    },
    {
      "cell_type": "code",
      "execution_count": 71,
      "metadata": {
        "colab": {
          "base_uri": "https://localhost:8080/"
        },
        "id": "Rq0qmU4FKVlt",
        "outputId": "a0d4a3d1-e182-4d5f-a985-e3c043c8c6e2"
      },
      "outputs": [
        {
          "output_type": "stream",
          "name": "stdout",
          "text": [
            "INFO: Successfully saved requirements file in ./requirements.txt\n"
          ]
        }
      ],
      "source": [
        "!pipreqs ./"
      ]
    },
    {
      "cell_type": "code",
      "execution_count": 72,
      "metadata": {
        "colab": {
          "base_uri": "https://localhost:8080/"
        },
        "id": "_yIjuRRaK0kf",
        "outputId": "c0f2ed2a-9f20-47b2-b11f-5ce5fa89c8dd"
      },
      "outputs": [
        {
          "output_type": "stream",
          "name": "stdout",
          "text": [
            "Looking in indexes: https://pypi.org/simple, https://us-python.pkg.dev/colab-wheels/public/simple/\n",
            "Collecting streamlit\n",
            "  Downloading streamlit-1.13.0-py2.py3-none-any.whl (9.2 MB)\n",
            "\u001b[K     |████████████████████████████████| 9.2 MB 5.1 MB/s \n",
            "\u001b[?25hRequirement already satisfied: importlib-metadata>=1.4 in /usr/local/lib/python3.7/dist-packages (from streamlit) (5.0.0)\n",
            "Collecting pympler>=0.9\n",
            "  Downloading Pympler-1.0.1-py3-none-any.whl (164 kB)\n",
            "\u001b[K     |████████████████████████████████| 164 kB 69.9 MB/s \n",
            "\u001b[?25hCollecting blinker>=1.0.0\n",
            "  Downloading blinker-1.5-py2.py3-none-any.whl (12 kB)\n",
            "Collecting watchdog\n",
            "  Downloading watchdog-2.1.9-py3-none-manylinux2014_x86_64.whl (78 kB)\n",
            "\u001b[K     |████████████████████████████████| 78 kB 6.3 MB/s \n",
            "\u001b[?25hRequirement already satisfied: python-dateutil in /usr/local/lib/python3.7/dist-packages (from streamlit) (2.8.2)\n",
            "Requirement already satisfied: tornado>=5.0 in /usr/local/lib/python3.7/dist-packages (from streamlit) (5.1.1)\n",
            "Requirement already satisfied: numpy in /usr/local/lib/python3.7/dist-packages (from streamlit) (1.21.6)\n",
            "Collecting rich>=10.11.0\n",
            "  Downloading rich-12.6.0-py3-none-any.whl (237 kB)\n",
            "\u001b[K     |████████████████████████████████| 237 kB 61.3 MB/s \n",
            "\u001b[?25hRequirement already satisfied: pandas>=0.21.0 in /usr/local/lib/python3.7/dist-packages (from streamlit) (1.3.5)\n",
            "Requirement already satisfied: toml in /usr/local/lib/python3.7/dist-packages (from streamlit) (0.10.2)\n",
            "Requirement already satisfied: pillow>=6.2.0 in /usr/local/lib/python3.7/dist-packages (from streamlit) (7.1.2)\n",
            "Requirement already satisfied: packaging>=14.1 in /usr/local/lib/python3.7/dist-packages (from streamlit) (21.3)\n",
            "Requirement already satisfied: requests>=2.4 in /usr/local/lib/python3.7/dist-packages (from streamlit) (2.23.0)\n",
            "Requirement already satisfied: cachetools>=4.0 in /usr/local/lib/python3.7/dist-packages (from streamlit) (4.2.4)\n",
            "Requirement already satisfied: pyarrow>=4.0 in /usr/local/lib/python3.7/dist-packages (from streamlit) (6.0.1)\n",
            "Requirement already satisfied: tzlocal>=1.1 in /usr/local/lib/python3.7/dist-packages (from streamlit) (1.5.1)\n",
            "Collecting gitpython!=3.1.19\n",
            "  Downloading GitPython-3.1.28-py3-none-any.whl (182 kB)\n",
            "\u001b[K     |████████████████████████████████| 182 kB 56.5 MB/s \n",
            "\u001b[?25hRequirement already satisfied: altair>=3.2.0 in /usr/local/lib/python3.7/dist-packages (from streamlit) (4.2.0)\n",
            "Collecting validators>=0.2\n",
            "  Downloading validators-0.20.0.tar.gz (30 kB)\n",
            "Requirement already satisfied: click>=7.0 in /usr/local/lib/python3.7/dist-packages (from streamlit) (7.1.2)\n",
            "Collecting semver\n",
            "  Downloading semver-2.13.0-py2.py3-none-any.whl (12 kB)\n",
            "Requirement already satisfied: typing-extensions>=3.10.0.0 in /usr/local/lib/python3.7/dist-packages (from streamlit) (4.1.1)\n",
            "Requirement already satisfied: protobuf!=3.20.2,<4,>=3.12 in /usr/local/lib/python3.7/dist-packages (from streamlit) (3.17.3)\n",
            "Collecting pydeck>=0.1.dev5\n",
            "  Downloading pydeck-0.8.0b3-py2.py3-none-any.whl (4.7 MB)\n",
            "\u001b[K     |████████████████████████████████| 4.7 MB 39.6 MB/s \n",
            "\u001b[?25hRequirement already satisfied: toolz in /usr/local/lib/python3.7/dist-packages (from altair>=3.2.0->streamlit) (0.12.0)\n",
            "Requirement already satisfied: jinja2 in /usr/local/lib/python3.7/dist-packages (from altair>=3.2.0->streamlit) (2.11.3)\n",
            "Requirement already satisfied: jsonschema>=3.0 in /usr/local/lib/python3.7/dist-packages (from altair>=3.2.0->streamlit) (4.3.3)\n",
            "Requirement already satisfied: entrypoints in /usr/local/lib/python3.7/dist-packages (from altair>=3.2.0->streamlit) (0.4)\n",
            "Collecting gitdb<5,>=4.0.1\n",
            "  Downloading gitdb-4.0.9-py3-none-any.whl (63 kB)\n",
            "\u001b[K     |████████████████████████████████| 63 kB 1.7 MB/s \n",
            "\u001b[?25hCollecting smmap<6,>=3.0.1\n",
            "  Downloading smmap-5.0.0-py3-none-any.whl (24 kB)\n",
            "Requirement already satisfied: zipp>=0.5 in /usr/local/lib/python3.7/dist-packages (from importlib-metadata>=1.4->streamlit) (3.8.1)\n",
            "Requirement already satisfied: pyrsistent!=0.17.0,!=0.17.1,!=0.17.2,>=0.14.0 in /usr/local/lib/python3.7/dist-packages (from jsonschema>=3.0->altair>=3.2.0->streamlit) (0.18.1)\n",
            "Requirement already satisfied: attrs>=17.4.0 in /usr/local/lib/python3.7/dist-packages (from jsonschema>=3.0->altair>=3.2.0->streamlit) (22.1.0)\n",
            "Requirement already satisfied: importlib-resources>=1.4.0 in /usr/local/lib/python3.7/dist-packages (from jsonschema>=3.0->altair>=3.2.0->streamlit) (5.9.0)\n",
            "Requirement already satisfied: pyparsing!=3.0.5,>=2.0.2 in /usr/local/lib/python3.7/dist-packages (from packaging>=14.1->streamlit) (3.0.9)\n",
            "Requirement already satisfied: pytz>=2017.3 in /usr/local/lib/python3.7/dist-packages (from pandas>=0.21.0->streamlit) (2022.4)\n",
            "Requirement already satisfied: six>=1.9 in /usr/local/lib/python3.7/dist-packages (from protobuf!=3.20.2,<4,>=3.12->streamlit) (1.15.0)\n",
            "Requirement already satisfied: MarkupSafe>=0.23 in /usr/local/lib/python3.7/dist-packages (from jinja2->altair>=3.2.0->streamlit) (2.0.1)\n",
            "Requirement already satisfied: idna<3,>=2.5 in /usr/local/lib/python3.7/dist-packages (from requests>=2.4->streamlit) (2.10)\n",
            "Requirement already satisfied: chardet<4,>=3.0.2 in /usr/local/lib/python3.7/dist-packages (from requests>=2.4->streamlit) (3.0.4)\n",
            "Requirement already satisfied: urllib3!=1.25.0,!=1.25.1,<1.26,>=1.21.1 in /usr/local/lib/python3.7/dist-packages (from requests>=2.4->streamlit) (1.24.3)\n",
            "Requirement already satisfied: certifi>=2017.4.17 in /usr/local/lib/python3.7/dist-packages (from requests>=2.4->streamlit) (2022.9.24)\n",
            "Collecting commonmark<0.10.0,>=0.9.0\n",
            "  Downloading commonmark-0.9.1-py2.py3-none-any.whl (51 kB)\n",
            "\u001b[K     |████████████████████████████████| 51 kB 6.1 MB/s \n",
            "\u001b[?25hRequirement already satisfied: pygments<3.0.0,>=2.6.0 in /usr/local/lib/python3.7/dist-packages (from rich>=10.11.0->streamlit) (2.6.1)\n",
            "Requirement already satisfied: decorator>=3.4.0 in /usr/local/lib/python3.7/dist-packages (from validators>=0.2->streamlit) (4.4.2)\n",
            "Building wheels for collected packages: validators\n",
            "  Building wheel for validators (setup.py) ... \u001b[?25l\u001b[?25hdone\n",
            "  Created wheel for validators: filename=validators-0.20.0-py3-none-any.whl size=19582 sha256=3c8daef0c430c05b91ece9ed8f2cf4d7ec870e192217369c7b996f48d81b1201\n",
            "  Stored in directory: /root/.cache/pip/wheels/5f/55/ab/36a76989f7f88d9ca7b1f68da6d94252bb6a8d6ad4f18e04e9\n",
            "Successfully built validators\n",
            "Installing collected packages: smmap, gitdb, commonmark, watchdog, validators, semver, rich, pympler, pydeck, gitpython, blinker, streamlit\n",
            "Successfully installed blinker-1.5 commonmark-0.9.1 gitdb-4.0.9 gitpython-3.1.28 pydeck-0.8.0b3 pympler-1.0.1 rich-12.6.0 semver-2.13.0 smmap-5.0.0 streamlit-1.13.0 validators-0.20.0 watchdog-2.1.9\n"
          ]
        }
      ],
      "source": [
        "!pip install streamlit"
      ]
    },
    {
      "cell_type": "code",
      "source": [
        "import matplotlib.pyplot as plt\n",
        "import numpy as np\n",
        "import os\n",
        "import PIL\n",
        "import tensorflow as tf\n",
        "\n",
        "from tensorflow import keras\n",
        "from tensorflow.keras import layers\n",
        "from tensorflow.keras.models import Sequential"
      ],
      "metadata": {
        "id": "MHxlBmzQRoKG"
      },
      "execution_count": 77,
      "outputs": []
    },
    {
      "cell_type": "code",
      "source": [
        "import streamlit as st\n"
      ],
      "metadata": {
        "id": "UnonBGlpR1R9"
      },
      "execution_count": 82,
      "outputs": []
    },
    {
      "cell_type": "code",
      "source": [
        "%%writefile app.py\n",
        "import streamlit as st\n",
        "import tensorflow as tf\n",
        "import streamlit as st\n",
        "\n",
        "\n",
        "@st.cache(allow_output_mutation=True)\n",
        "def load_model():\n",
        "  model=tf.keras.models.load_model('/content/trained_model.sav')\n",
        "  return model\n",
        "with st.spinner('Model is being loaded..'):\n",
        "  model=load_model()\n",
        "\n",
        "st.write(\"\"\"\n",
        "         # Time Series\n",
        "         \"\"\"\n",
        "         )\n",
        "\n",
        "user_input = st.text_input('Select dataset',)"
      ],
      "metadata": {
        "colab": {
          "base_uri": "https://localhost:8080/"
        },
        "id": "gEMkvz8jQfRA",
        "outputId": "2f8b0d07-98b3-4ac8-adf5-7e46559f3f71"
      },
      "execution_count": 86,
      "outputs": [
        {
          "output_type": "stream",
          "name": "stdout",
          "text": [
            "Overwriting app.py\n"
          ]
        }
      ]
    },
    {
      "cell_type": "code",
      "source": [
        "!streamlit run app.py & npx localtunnel --port 8501"
      ],
      "metadata": {
        "colab": {
          "base_uri": "https://localhost:8080/"
        },
        "id": "JYSIOzHWR8lY",
        "outputId": "a23b3e42-71ac-4820-d90c-0f07f3aea482"
      },
      "execution_count": 87,
      "outputs": [
        {
          "output_type": "stream",
          "name": "stdout",
          "text": [
            "2022-10-08 15:45:37.086 INFO    numexpr.utils: NumExpr defaulting to 2 threads.\n",
            "[..................] / fetchMetadata: sill resolveWithNewModule localtunnel@2.0\u001b[0m\u001b[K\n",
            "Collecting usage statistics. To deactivate, set browser.gatherUsageStats to False.\n",
            "\u001b[0m\n",
            "\u001b[K\u001b[?25hnpx: installed 22 in 4.822s\n",
            "your url is: https://upset-hornets-chew-34-67-91-116.loca.lt\n",
            "\u001b[0m\n",
            "\u001b[34m\u001b[1m  You can now view your Streamlit app in your browser.\u001b[0m\n",
            "\u001b[0m\n",
            "\u001b[34m  Network URL: \u001b[0m\u001b[1mhttp://172.28.0.2:8501\u001b[0m\n",
            "\u001b[34m  External URL: \u001b[0m\u001b[1mhttp://34.67.91.116:8501\u001b[0m\n",
            "\u001b[0m\n",
            "2022-10-08 15:48:20.882 Uncaught app exception\n",
            "Traceback (most recent call last):\n",
            "  File \"/usr/local/lib/python3.7/dist-packages/streamlit/runtime/scriptrunner/script_runner.py\", line 562, in _run_script\n",
            "    exec(code, module.__dict__)\n",
            "  File \"/content/app.py\", line 11, in <module>\n",
            "    model=load_model()\n",
            "  File \"/usr/local/lib/python3.7/dist-packages/streamlit/runtime/legacy_caching/caching.py\", line 621, in wrapped_func\n",
            "    return get_or_create_cached_value()\n",
            "  File \"/usr/local/lib/python3.7/dist-packages/streamlit/runtime/legacy_caching/caching.py\", line 605, in get_or_create_cached_value\n",
            "    return_value = non_optional_func(*args, **kwargs)\n",
            "  File \"/content/app.py\", line 8, in load_model\n",
            "    model=tf.keras.models.load_model('/content/trained_model.sav')\n",
            "  File \"/usr/local/lib/python3.7/dist-packages/keras/utils/traceback_utils.py\", line 67, in error_handler\n",
            "    raise e.with_traceback(filtered_tb) from None\n",
            "  File \"/usr/local/lib/python3.7/dist-packages/h5py/_hl/files.py\", line 427, in __init__\n",
            "    swmr=swmr)\n",
            "  File \"/usr/local/lib/python3.7/dist-packages/h5py/_hl/files.py\", line 190, in make_fid\n",
            "    fid = h5f.open(name, flags, fapl=fapl)\n",
            "  File \"h5py/_objects.pyx\", line 54, in h5py._objects.with_phil.wrapper\n",
            "  File \"h5py/_objects.pyx\", line 55, in h5py._objects.with_phil.wrapper\n",
            "  File \"h5py/h5f.pyx\", line 96, in h5py.h5f.open\n",
            "OSError: Unable to open file (file signature not found)\n",
            "stop\n",
            "exit\n",
            "exit()\n",
            "\n",
            "exit\n",
            "\u001b[34m  Stopping...\u001b[0m\n",
            "^C\n"
          ]
        }
      ]
    },
    {
      "cell_type": "code",
      "source": [],
      "metadata": {
        "id": "bYfCGLdBRv2A"
      },
      "execution_count": null,
      "outputs": []
    }
  ],
  "metadata": {
    "colab": {
      "collapsed_sections": [],
      "provenance": []
    },
    "kernelspec": {
      "display_name": "Python 3",
      "name": "python3"
    },
    "language_info": {
      "name": "python"
    }
  },
  "nbformat": 4,
  "nbformat_minor": 0
}